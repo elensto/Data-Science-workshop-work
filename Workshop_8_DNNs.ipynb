{
  "cells": [
    {
      "cell_type": "markdown",
      "metadata": {
        "id": "2L01Vq-imdJ4"
      },
      "source": [
        "# Tuning DNNs (image classification example)"
      ]
    },
    {
      "cell_type": "markdown",
      "metadata": {
        "id": "E3L_oWQUmley"
      },
      "source": [
        "## Libraries"
      ]
    },
    {
      "cell_type": "markdown",
      "metadata": {
        "id": "Hdrh63ZvTxlb"
      },
      "source": [
        "### import all libraries here"
      ]
    },
    {
      "cell_type": "code",
      "execution_count": null,
      "metadata": {
        "id": "HW-u4kWpeVQu"
      },
      "outputs": [],
      "source": [
        "import numpy as np\n",
        "import pandas as pd\n",
        "import matplotlib.pyplot as plt\n",
        "import seaborn as sns\n",
        "from sklearn import preprocessing\n",
        "\n",
        "from sklearn.linear_model import LogisticRegression\n",
        "from sklearn.ensemble import RandomForestClassifier\n",
        "from sklearn.metrics import confusion_matrix, classification_report, accuracy_score\n",
        "\n",
        "from keras.layers import Dense, Activation, Input, Dropout, BatchNormalization\n",
        "from keras.models import Sequential, Model, load_model\n",
        "from keras.callbacks import ModelCheckpoint, EarlyStopping\n",
        "\n",
        "from sklearn.metrics import mean_squared_error"
      ]
    },
    {
      "cell_type": "markdown",
      "metadata": {
        "id": "lG2XN4Kqmnuq"
      },
      "source": [
        "## Data"
      ]
    },
    {
      "cell_type": "markdown",
      "metadata": {
        "id": "Vf3DoOrET5gM"
      },
      "source": [
        "### Load the dataset\n",
        "Use:\n",
        "\n",
        "1. from keras.datasets import fashion_mnist\n",
        "2. (X_train, y_train), (X_test, y_test) = fashion_mnist.load_data()\n",
        "2. label_names = ['T-shirt/top','Trouser','Pullover' 'Dress','Coat','Sandal','Shirt','Sneaker' ,'Bag','Ankle boot']"
      ]
    },
    {
      "cell_type": "code",
      "execution_count": null,
      "metadata": {
        "id": "oIhBxZ0bC2RJ",
        "colab": {
          "base_uri": "https://localhost:8080/"
        },
        "outputId": "f5ab1243-f54d-49d6-916d-aae4faa8aee4"
      },
      "outputs": [
        {
          "output_type": "stream",
          "name": "stdout",
          "text": [
            "Downloading data from https://storage.googleapis.com/tensorflow/tf-keras-datasets/train-labels-idx1-ubyte.gz\n",
            "32768/29515 [=================================] - 0s 0us/step\n",
            "40960/29515 [=========================================] - 0s 0us/step\n",
            "Downloading data from https://storage.googleapis.com/tensorflow/tf-keras-datasets/train-images-idx3-ubyte.gz\n",
            "26427392/26421880 [==============================] - 0s 0us/step\n",
            "26435584/26421880 [==============================] - 0s 0us/step\n",
            "Downloading data from https://storage.googleapis.com/tensorflow/tf-keras-datasets/t10k-labels-idx1-ubyte.gz\n",
            "16384/5148 [===============================================================================================] - 0s 0us/step\n",
            "Downloading data from https://storage.googleapis.com/tensorflow/tf-keras-datasets/t10k-images-idx3-ubyte.gz\n",
            "4423680/4422102 [==============================] - 0s 0us/step\n",
            "4431872/4422102 [==============================] - 0s 0us/step\n"
          ]
        }
      ],
      "source": [
        "#code\n",
        "from keras.datasets import fashion_mnist\n",
        "(X_train, y_train), (X_test, y_test) = fashion_mnist.load_data()\n",
        "label_names = ['T-shirt/top','Trouser','Pullover','Dress','Coat','Sandal','Shirt','Sneaker' ,'Bag','Ankle boot']"
      ]
    },
    {
      "cell_type": "markdown",
      "metadata": {
        "id": "fH120Xe5UQ2S"
      },
      "source": [
        "### Check the dataset"
      ]
    },
    {
      "cell_type": "code",
      "execution_count": null,
      "metadata": {
        "id": "C3J7ycK7F2uL",
        "colab": {
          "base_uri": "https://localhost:8080/"
        },
        "outputId": "e3149037-75e5-4612-c8cc-e3daf7767a15"
      },
      "outputs": [
        {
          "output_type": "stream",
          "name": "stdout",
          "text": [
            "X_train:  (60000, 28, 28)\n",
            "y_train:  (60000,)\n",
            "X_test:  (10000, 28, 28)\n",
            "y_test:  (10000,)\n"
          ]
        }
      ],
      "source": [
        "#print the shape of the train and test\n",
        "print('X_train: ', X_train.shape)\n",
        "print('y_train: ', y_train.shape)\n",
        "print('X_test: ', X_test.shape)\n",
        "print('y_test: ', y_test.shape)"
      ]
    },
    {
      "cell_type": "code",
      "execution_count": null,
      "metadata": {
        "id": "exvF17IcheyG",
        "colab": {
          "base_uri": "https://localhost:8080/",
          "height": 282
        },
        "outputId": "ee5a0bc3-ff70-4b42-9352-617bda6d4d18"
      },
      "outputs": [
        {
          "output_type": "execute_result",
          "data": {
            "text/plain": [
              "<matplotlib.image.AxesImage at 0x7efd3d06b650>"
            ]
          },
          "metadata": {},
          "execution_count": 4
        },
        {
          "output_type": "display_data",
          "data": {
            "image/png": "[encoded data removed]",
            "text/plain": [
              "<Figure size 432x288 with 1 Axes>"
            ]
          },
          "metadata": {
            "needs_background": "light"
          }
        }
      ],
      "source": [
        "#plot one image\n",
        "plt.imshow(X_train[0])"
      ]
    },
    {
      "cell_type": "code",
      "source": [
        "#plot one image\n",
        "plt.imshow(X_train[5])"
      ],
      "metadata": {
        "colab": {
          "base_uri": "https://localhost:8080/",
          "height": 282
        },
        "id": "ppO_yfL00G4r",
        "outputId": "5056ef6a-8d95-41ea-b4b5-8223d6a7c10d"
      },
      "execution_count": null,
      "outputs": [
        {
          "output_type": "execute_result",
          "data": {
            "text/plain": [
              "<matplotlib.image.AxesImage at 0x7efd3cfeb190>"
            ]
          },
          "metadata": {},
          "execution_count": 5
        },
        {
          "output_type": "display_data",
          "data": {
            "image/png": "[encoded data removed]",
            "text/plain": [
              "<Figure size 432x288 with 1 Axes>"
            ]
          },
          "metadata": {
            "needs_background": "light"
          }
        }
      ]
    },
    {
      "cell_type": "markdown",
      "metadata": {
        "id": "hPf-QIhtUZxl"
      },
      "source": [
        "### Reshape the dataset"
      ]
    },
    {
      "cell_type": "code",
      "execution_count": null,
      "metadata": {
        "id": "LwZbNqjBIs-X"
      },
      "outputs": [],
      "source": [
        "#Reshape the data to a one dimensional representation\n",
        "# Reshape train dataset\n",
        "n_instances = X_train.shape[0]\n",
        "X_train = X_train.reshape(n_instances,-1)\n",
        "\n",
        "# Reshape test dataset\n",
        "n_instances = X_test.shape[0]\n",
        "X_test = X_test.reshape(n_instances,-1)"
      ]
    },
    {
      "cell_type": "code",
      "source": [
        "print('1D X_train: ', X_train.shape)\n",
        "print('1D X_test: ', X_test.shape)"
      ],
      "metadata": {
        "colab": {
          "base_uri": "https://localhost:8080/"
        },
        "id": "CZNPqxjD0odi",
        "outputId": "2c61b1a0-6fdf-4499-ac21-7d70a58439f4"
      },
      "execution_count": null,
      "outputs": [
        {
          "output_type": "stream",
          "name": "stdout",
          "text": [
            "1D X_train:  (60000, 784)\n",
            "1D X_test:  (10000, 784)\n"
          ]
        }
      ]
    },
    {
      "cell_type": "code",
      "execution_count": null,
      "metadata": {
        "id": "rVHccWjJdviD",
        "colab": {
          "base_uri": "https://localhost:8080/",
          "height": 513
        },
        "outputId": "8ba84e25-3dd5-4c3e-a1bd-33f1a6a07530"
      },
      "outputs": [
        {
          "output_type": "display_data",
          "data": {
            "image/png": "[encoded data removed]",
            "text/plain": [
              "<Figure size 432x288 with 1 Axes>"
            ]
          },
          "metadata": {
            "needs_background": "light"
          }
        },
        {
          "output_type": "display_data",
          "data": {
            "image/png": "[encoded data removed]",
            "text/plain": [
              "<Figure size 432x288 with 1 Axes>"
            ]
          },
          "metadata": {
            "needs_background": "light"
          }
        }
      ],
      "source": [
        "#plot one instance of the 1-D representation\n",
        "plt.plot(X_train[0])\n",
        "plt.show()\n",
        "\n",
        "plt.plot(X_test[0])\n",
        "plt.show()"
      ]
    },
    {
      "cell_type": "markdown",
      "metadata": {
        "id": "6rZAPEFSUjSO"
      },
      "source": [
        "### Plot histograms of the train and test labels"
      ]
    },
    {
      "cell_type": "code",
      "source": [
        "# Unique values in target variable\n",
        "print('Unique y_train values', np.unique(y_train))\n",
        "print('Unique y_test values', np.unique(y_test))"
      ],
      "metadata": {
        "colab": {
          "base_uri": "https://localhost:8080/"
        },
        "id": "NiJf5nfo1mV3",
        "outputId": "d7ee6f7d-dbd6-4924-b083-97105ae5ee22"
      },
      "execution_count": null,
      "outputs": [
        {
          "output_type": "stream",
          "name": "stdout",
          "text": [
            "Unique y_train values [0 1 2 3 4 5 6 7 8 9]\n",
            "Unique y_test values [0 1 2 3 4 5 6 7 8 9]\n"
          ]
        }
      ]
    },
    {
      "cell_type": "code",
      "source": [
        "# Train y_dataset histogram\n",
        "plt.hist(y_train)\n",
        "plt.show()\n",
        "\n",
        "# Test y_dataset histogram\n",
        "plt.hist(y_test)\n",
        "plt.show()"
      ],
      "metadata": {
        "colab": {
          "base_uri": "https://localhost:8080/",
          "height": 513
        },
        "id": "2HmTioVJ2rFF",
        "outputId": "76de693c-2764-468c-ede1-1e7eb857f9a3"
      },
      "execution_count": null,
      "outputs": [
        {
          "output_type": "display_data",
          "data": {
            "image/png": "[encoded data removed]",
            "text/plain": [
              "<Figure size 432x288 with 1 Axes>"
            ]
          },
          "metadata": {
            "needs_background": "light"
          }
        },
        {
          "output_type": "display_data",
          "data": {
            "image/png": "[encoded data removed]",
            "text/plain": [
              "<Figure size 432x288 with 1 Axes>"
            ]
          },
          "metadata": {
            "needs_background": "light"
          }
        }
      ]
    },
    {
      "cell_type": "code",
      "source": [
        "# Target variable distribution\n",
        "label_names = np.array(label_names)\n",
        "y_test_names = label_names[y_test]\n",
        "y_train_names = label_names[y_train]\n",
        "for name in label_names:\n",
        "  print('test',name,y_test_names[y_test_names==name].shape)\n",
        "  print('train',name,y_train_names[y_train_names==name].shape)\n",
        "  print()"
      ],
      "metadata": {
        "colab": {
          "base_uri": "https://localhost:8080/"
        },
        "id": "mq1BU3B_4QtF",
        "outputId": "42f73fe2-a14c-4c3f-d0ee-0bb422ec1336"
      },
      "execution_count": null,
      "outputs": [
        {
          "output_type": "stream",
          "name": "stdout",
          "text": [
            "test T-shirt/top (1000,)\n",
            "train T-shirt/top (6000,)\n",
            "\n",
            "test Trouser (1000,)\n",
            "train Trouser (6000,)\n",
            "\n",
            "test Pullover (1000,)\n",
            "train Pullover (6000,)\n",
            "\n",
            "test Dress (1000,)\n",
            "train Dress (6000,)\n",
            "\n",
            "test Coat (1000,)\n",
            "train Coat (6000,)\n",
            "\n",
            "test Sandal (1000,)\n",
            "train Sandal (6000,)\n",
            "\n",
            "test Shirt (1000,)\n",
            "train Shirt (6000,)\n",
            "\n",
            "test Sneaker (1000,)\n",
            "train Sneaker (6000,)\n",
            "\n",
            "test Bag (1000,)\n",
            "train Bag (6000,)\n",
            "\n",
            "test Ankle boot (1000,)\n",
            "train Ankle boot (6000,)\n",
            "\n"
          ]
        }
      ]
    },
    {
      "cell_type": "markdown",
      "source": [
        "#### Comment: \n",
        "\n",
        "There is an uniform distribution of all classes with both train and test target variables."
      ],
      "metadata": {
        "id": "hBI8zE0h3tSv"
      }
    },
    {
      "cell_type": "markdown",
      "metadata": {
        "id": "Dn-m5LZLUti8"
      },
      "source": [
        "### Perform min-max scaling on the data"
      ]
    },
    {
      "cell_type": "code",
      "execution_count": null,
      "metadata": {
        "id": "K6qDK26WARPR",
        "colab": {
          "base_uri": "https://localhost:8080/"
        },
        "outputId": "d3359584-4cf9-4716-ffcd-198daaaa8a82"
      },
      "outputs": [
        {
          "output_type": "stream",
          "name": "stdout",
          "text": [
            "Before scaling\n",
            "min:  0\n",
            "max:  255\n",
            "\n",
            "After scaling\n",
            "min:  0.0\n",
            "max:  1.0\n"
          ]
        }
      ],
      "source": [
        "#perform min max scaling on the data\n",
        "#check the old range of values\n",
        "print('Before scaling')\n",
        "data_min = X_train.min()\n",
        "data_max = X_train.max()\n",
        "print('min: ', data_min)\n",
        "print('max: ', data_max)\n",
        "print()\n",
        "\n",
        "#scaling datasets\n",
        "X_train_scaled = (X_train - data_min)/(data_max-data_min)\n",
        "X_test_scaled = (X_test - data_min)/(data_max-data_min)\n",
        "\n",
        "#check the new range of values\n",
        "print('After scaling')\n",
        "data_min_scaled = X_train_scaled.min()\n",
        "data_max_scaled = X_test_scaled.max()\n",
        "print('min: ', data_min_scaled)\n",
        "print('max: ', data_max_scaled)\n"
      ]
    },
    {
      "cell_type": "markdown",
      "metadata": {
        "id": "AXOSSpcTmrnH"
      },
      "source": [
        "## Baseline models"
      ]
    },
    {
      "cell_type": "markdown",
      "metadata": {
        "id": "iQag4F5rU4wq"
      },
      "source": [
        "### Create 2 baselines models (LogisticRegression and RandomForestClassifier)\n"
      ]
    },
    {
      "cell_type": "markdown",
      "metadata": {
        "id": "3LEDaLUXU9LQ"
      },
      "source": [
        "### Train the baseline models"
      ]
    },
    {
      "cell_type": "code",
      "execution_count": null,
      "metadata": {
        "id": "bHOTR9l5M-XI",
        "colab": {
          "base_uri": "https://localhost:8080/"
        },
        "outputId": "9a5de6d8-7513-4b61-ebc1-20ea7528c991"
      },
      "outputs": [
        {
          "output_type": "stream",
          "name": "stdout",
          "text": [
            "Logistic Regression\n"
          ]
        },
        {
          "output_type": "stream",
          "name": "stderr",
          "text": [
            "/usr/local/lib/python3.7/dist-packages/sklearn/linear_model/_logistic.py:818: ConvergenceWarning: lbfgs failed to converge (status=1):\n",
            "STOP: TOTAL NO. of ITERATIONS REACHED LIMIT.\n",
            "\n",
            "Increase the number of iterations (max_iter) or scale the data as shown in:\n",
            "    https://scikit-learn.org/stable/modules/preprocessing.html\n",
            "Please also refer to the documentation for alternative solver options:\n",
            "    https://scikit-learn.org/stable/modules/linear_model.html#logistic-regression\n",
            "  extra_warning_msg=_LOGISTIC_SOLVER_CONVERGENCE_MSG,\n"
          ]
        },
        {
          "output_type": "stream",
          "name": "stdout",
          "text": [
            "\n",
            "Logistic Regression on scaled dataset\n"
          ]
        },
        {
          "output_type": "stream",
          "name": "stderr",
          "text": [
            "/usr/local/lib/python3.7/dist-packages/sklearn/linear_model/_logistic.py:818: ConvergenceWarning: lbfgs failed to converge (status=1):\n",
            "STOP: TOTAL NO. of ITERATIONS REACHED LIMIT.\n",
            "\n",
            "Increase the number of iterations (max_iter) or scale the data as shown in:\n",
            "    https://scikit-learn.org/stable/modules/preprocessing.html\n",
            "Please also refer to the documentation for alternative solver options:\n",
            "    https://scikit-learn.org/stable/modules/linear_model.html#logistic-regression\n",
            "  extra_warning_msg=_LOGISTIC_SOLVER_CONVERGENCE_MSG,\n"
          ]
        },
        {
          "output_type": "stream",
          "name": "stdout",
          "text": [
            "Random Forest Classifier\n",
            "\n",
            "Random Forest Classifier on scaled dataset\n"
          ]
        },
        {
          "output_type": "execute_result",
          "data": {
            "text/plain": [
              "RandomForestClassifier(random_state=0)"
            ]
          },
          "metadata": {},
          "execution_count": 13
        }
      ],
      "source": [
        "#create & train baselines models \n",
        "\n",
        "# LogisticRegression\n",
        "print('Logistic Regression')\n",
        "log_reg = LogisticRegression(random_state=0)\n",
        "log_reg.fit(X_train, y_train)\n",
        "print()\n",
        "print('Logistic Regression on scaled dataset')\n",
        "log_reg = LogisticRegression(random_state=0)\n",
        "log_reg.fit(X_train_scaled, y_train)\n",
        "\n",
        "# RandomForestClassifier\n",
        "print('Random Forest Classifier')\n",
        "rf = RandomForestClassifier(random_state=0)\n",
        "rf.fit(X_train, y_train)\n",
        "print()\n",
        "print('Random Forest Classifier on scaled dataset')\n",
        "rf = RandomForestClassifier(random_state=0)\n",
        "rf.fit(X_train_scaled, y_train)"
      ]
    },
    {
      "cell_type": "markdown",
      "metadata": {
        "id": "KZP3QK5pVFpj"
      },
      "source": [
        "\n",
        "### Applay the baseline models on the test data"
      ]
    },
    {
      "cell_type": "code",
      "execution_count": null,
      "metadata": {
        "id": "wQxjzsLBqean"
      },
      "outputs": [],
      "source": [
        "# Baseline models on test dataset\n",
        "pred_lr = log_reg.predict(X_test)\n",
        "pred_lr_scaled = log_reg.predict(X_test_scaled)\n",
        "pred_rf = rf.predict(X_test)\n",
        "pred_rf_scaled = rf.predict(X_test_scaled)"
      ]
    },
    {
      "cell_type": "markdown",
      "metadata": {
        "id": "LPgalexCVNUQ"
      },
      "source": [
        "### For each baseline model print a confusion matrix and a classification report "
      ]
    },
    {
      "cell_type": "code",
      "execution_count": null,
      "metadata": {
        "id": "ZZMzqQkeY1Je"
      },
      "outputs": [],
      "source": [
        "# Classification report\n",
        "def print_classification_report(true_y,pred_y,lab_names):\n",
        "  cm = confusion_matrix(true_y,pred_y)\n",
        "  print('Confusion matrix')\n",
        "  print(cm)\n",
        "  cr = classification_report(y_test,pred_y,target_names = lab_names)\n",
        "  print()\n",
        "  print(cr)"
      ]
    },
    {
      "cell_type": "code",
      "source": [
        "print('=====Logistic Regression Evaluation=====')\n",
        "lr_report = print_classification_report(y_test, pred_lr, label_names)\n",
        "lr_report"
      ],
      "metadata": {
        "colab": {
          "base_uri": "https://localhost:8080/"
        },
        "id": "nJfr1DjxAtvC",
        "outputId": "6f691dab-11d2-4c88-bb37-dae82675dad5"
      },
      "execution_count": null,
      "outputs": [
        {
          "output_type": "stream",
          "name": "stdout",
          "text": [
            "=====Logistic Regression Evaluation=====\n",
            "Confusion matrix\n",
            "[[730  14  26  37  70   0  97   0  25   1]\n",
            " [  0 971   0  14  12   0   1   0   2   0]\n",
            " [ 11   6 550   4 390   0  25   0  14   0]\n",
            " [ 18  45  18 738 146   0  25   0  10   0]\n",
            " [  0   1  24   6 960   0   6   0   3   0]\n",
            " [  1   1   0   0   1 492   0 142  35 328]\n",
            " [ 89   5  95  22 485   0 271   0  33   0]\n",
            " [  0   0   0   0   0   1   0 842   2 155]\n",
            " [  1   1   2   3  15   1   5   6 965   1]\n",
            " [  0   0   0   0   0   0   0  13   1 986]]\n",
            "\n",
            "              precision    recall  f1-score   support\n",
            "\n",
            " T-shirt/top       0.86      0.73      0.79      1000\n",
            "     Trouser       0.93      0.97      0.95      1000\n",
            "    Pullover       0.77      0.55      0.64      1000\n",
            "       Dress       0.90      0.74      0.81      1000\n",
            "        Coat       0.46      0.96      0.62      1000\n",
            "      Sandal       1.00      0.49      0.66      1000\n",
            "       Shirt       0.63      0.27      0.38      1000\n",
            "     Sneaker       0.84      0.84      0.84      1000\n",
            "         Bag       0.89      0.96      0.92      1000\n",
            "  Ankle boot       0.67      0.99      0.80      1000\n",
            "\n",
            "    accuracy                           0.75     10000\n",
            "   macro avg       0.79      0.75      0.74     10000\n",
            "weighted avg       0.79      0.75      0.74     10000\n",
            "\n"
          ]
        }
      ]
    },
    {
      "cell_type": "code",
      "source": [
        "print('=====Logistic Regression Evaluation on scaled dataset=====')\n",
        "lr_scaled_report = print_classification_report(y_test, pred_lr_scaled, label_names)\n",
        "lr_scaled_report"
      ],
      "metadata": {
        "colab": {
          "base_uri": "https://localhost:8080/"
        },
        "id": "pAljyhjUZflW",
        "outputId": "cf42ee21-b5f5-4b6f-fb49-c0826f3a23e2"
      },
      "execution_count": null,
      "outputs": [
        {
          "output_type": "stream",
          "name": "stdout",
          "text": [
            "=====Logistic Regression Evaluation on scaled dataset=====\n",
            "Confusion matrix\n",
            "[[807   4  17  48   5   2 108   0   9   0]\n",
            " [  2 961   1  25   5   0   4   0   2   0]\n",
            " [ 19   6 735  12 131   1  86   0  10   0]\n",
            " [ 30  12  12 869  29   0  44   0   4   0]\n",
            " [  0   2 108  38 756   1  87   0   8   0]\n",
            " [  0   0   0   1   0 925   0  51   3  20]\n",
            " [129   2 129  40 106   1 568   0  25   0]\n",
            " [  0   0   0   0   0  33   0 938   0  29]\n",
            " [  7   1   6  10   3   5  21   5 942   0]\n",
            " [  0   0   0   0   0  13   0  47   2 938]]\n",
            "\n",
            "              precision    recall  f1-score   support\n",
            "\n",
            " T-shirt/top       0.81      0.81      0.81      1000\n",
            "     Trouser       0.97      0.96      0.97      1000\n",
            "    Pullover       0.73      0.73      0.73      1000\n",
            "       Dress       0.83      0.87      0.85      1000\n",
            "        Coat       0.73      0.76      0.74      1000\n",
            "      Sandal       0.94      0.93      0.93      1000\n",
            "       Shirt       0.62      0.57      0.59      1000\n",
            "     Sneaker       0.90      0.94      0.92      1000\n",
            "         Bag       0.94      0.94      0.94      1000\n",
            "  Ankle boot       0.95      0.94      0.94      1000\n",
            "\n",
            "    accuracy                           0.84     10000\n",
            "   macro avg       0.84      0.84      0.84     10000\n",
            "weighted avg       0.84      0.84      0.84     10000\n",
            "\n"
          ]
        }
      ]
    },
    {
      "cell_type": "code",
      "source": [
        "print('=====Random Forest Classifier Evaluation=====')\n",
        "rf_report = print_classification_report(y_test, pred_rf, label_names)\n",
        "rf_report"
      ],
      "metadata": {
        "colab": {
          "base_uri": "https://localhost:8080/"
        },
        "id": "f0TI6og3Awx-",
        "outputId": "ffb42205-1afa-45fa-d46f-ca3126598425"
      },
      "execution_count": null,
      "outputs": [
        {
          "output_type": "stream",
          "name": "stdout",
          "text": [
            "=====Random Forest Classifier Evaluation=====\n",
            "Confusion matrix\n",
            "[[269   5  38  24   9   0 647   0   8   0]\n",
            " [  1 922   9  56   3   0   7   0   2   0]\n",
            " [  6   0 733   7 141   0 111   0   2   0]\n",
            " [ 14  19  50 813  59   0  42   0   1   2]\n",
            " [  0   0 444  45 435   0  75   0   1   0]\n",
            " [  1   0   0   0   0 849   0  78  27  45]\n",
            " [ 82   2 192  25 273   0 415   0  11   0]\n",
            " [  0   0   0   0   0  14   0 838  14 134]\n",
            " [  2   2  12  10   4   0  71   3 895   1]\n",
            " [  1   0   0   0   0   1   1  54   4 939]]\n",
            "\n",
            "              precision    recall  f1-score   support\n",
            "\n",
            " T-shirt/top       0.72      0.27      0.39      1000\n",
            "     Trouser       0.97      0.92      0.95      1000\n",
            "    Pullover       0.50      0.73      0.59      1000\n",
            "       Dress       0.83      0.81      0.82      1000\n",
            "        Coat       0.47      0.43      0.45      1000\n",
            "      Sandal       0.98      0.85      0.91      1000\n",
            "       Shirt       0.30      0.41      0.35      1000\n",
            "     Sneaker       0.86      0.84      0.85      1000\n",
            "         Bag       0.93      0.90      0.91      1000\n",
            "  Ankle boot       0.84      0.94      0.89      1000\n",
            "\n",
            "    accuracy                           0.71     10000\n",
            "   macro avg       0.74      0.71      0.71     10000\n",
            "weighted avg       0.74      0.71      0.71     10000\n",
            "\n"
          ]
        }
      ]
    },
    {
      "cell_type": "code",
      "source": [
        "print('=====Random Forest Classifier Evaluation on scaled dataset=====')\n",
        "rf_scaled_report = print_classification_report(y_test, pred_rf_scaled, label_names)\n",
        "rf_scaled_report"
      ],
      "metadata": {
        "colab": {
          "base_uri": "https://localhost:8080/"
        },
        "id": "Ij_B5Vy-Zofc",
        "outputId": "af84ba42-eb7a-4faf-d6a9-7758bd991de5"
      },
      "execution_count": null,
      "outputs": [
        {
          "output_type": "stream",
          "name": "stdout",
          "text": [
            "=====Random Forest Classifier Evaluation on scaled dataset=====\n",
            "Confusion matrix\n",
            "[[862   0  12  35   5   1  75   0  10   0]\n",
            " [  3 959   3  23   5   0   6   0   1   0]\n",
            " [ 13   0 807   8 112   0  58   0   2   0]\n",
            " [ 18   2  10 910  29   0  29   0   2   0]\n",
            " [  1   0  96  40 807   0  54   0   2   0]\n",
            " [  0   0   0   1   0 958   0  30   1  10]\n",
            " [149   1 122  26  88   0 598   0  16   0]\n",
            " [  0   0   0   0   0  12   0 949   0  39]\n",
            " [  0   1   2   4   5   2   8   3 974   1]\n",
            " [  0   0   0   0   0   7   1  42   2 948]]\n",
            "\n",
            "              precision    recall  f1-score   support\n",
            "\n",
            " T-shirt/top       0.82      0.86      0.84      1000\n",
            "     Trouser       1.00      0.96      0.98      1000\n",
            "    Pullover       0.77      0.81      0.79      1000\n",
            "       Dress       0.87      0.91      0.89      1000\n",
            "        Coat       0.77      0.81      0.79      1000\n",
            "      Sandal       0.98      0.96      0.97      1000\n",
            "       Shirt       0.72      0.60      0.65      1000\n",
            "     Sneaker       0.93      0.95      0.94      1000\n",
            "         Bag       0.96      0.97      0.97      1000\n",
            "  Ankle boot       0.95      0.95      0.95      1000\n",
            "\n",
            "    accuracy                           0.88     10000\n",
            "   macro avg       0.88      0.88      0.88     10000\n",
            "weighted avg       0.88      0.88      0.88     10000\n",
            "\n"
          ]
        }
      ]
    },
    {
      "cell_type": "markdown",
      "source": [
        "#### Comments:\n",
        "\n",
        "* Both baseline models provide relatively high prediction accuracy >0.70 on original and > 0.80 on scaled dataset\n",
        "* In both baseline models trained on the scaled dataset, Precision and Recall scores are also high (>0.70) for all classes, except for class 'Shirt'.\n",
        "\n",
        "\n",
        "* According to all evaluation metrics Random Forest Classifier has better predictive ability for this dataset. "
      ],
      "metadata": {
        "id": "sjw5f9E7BxYw"
      }
    },
    {
      "cell_type": "markdown",
      "metadata": {
        "id": "Ryq9BXrym1P2"
      },
      "source": [
        "## DNN model"
      ]
    },
    {
      "cell_type": "markdown",
      "metadata": {
        "id": "NVGlZNNNVUl5"
      },
      "source": [
        "### Create a baseline-FC model with \n",
        "1. three hidden layers (1024,512 and 256 neurons)\n",
        "2. loss - sparse_categorical_crossentropy\n",
        "3.  adam optimizer\n"
      ]
    },
    {
      "cell_type": "code",
      "source": [
        "def create_FC_model(input_shape, num_cells, output_shape):\n",
        "  \n",
        "  _input = Input(shape = input_shape)\n",
        "  \n",
        "  layer =  Dense(num_cells, activation= 'relu')(_input)\n",
        "  layer =  Dense(num_cells//2, activation= 'relu')(layer)\n",
        "  layer =  Dense(num_cells//4, activation= 'relu')(layer)\n",
        "  _output = Dense(output_shape, activation='sigmoid')(layer)\n",
        "\n",
        "  my_model = Model(inputs=[_input], outputs=[_output])\n",
        "  my_model.compile(loss='sparse_categorical_crossentropy', optimizer='adam', metrics=['accuracy'])\n",
        "\n",
        "  return my_model\n"
      ],
      "metadata": {
        "id": "RjCH5_RuVgz7"
      },
      "execution_count": null,
      "outputs": []
    },
    {
      "cell_type": "code",
      "execution_count": null,
      "metadata": {
        "id": "T-kwUJ7BI2f-",
        "colab": {
          "base_uri": "https://localhost:8080/"
        },
        "outputId": "21db3043-b0c7-499d-acbc-18d8201e31e8"
      },
      "outputs": [
        {
          "output_type": "stream",
          "name": "stdout",
          "text": [
            "Model: \"model\"\n",
            "_________________________________________________________________\n",
            " Layer (type)                Output Shape              Param #   \n",
            "=================================================================\n",
            " input_1 (InputLayer)        [(None, 784)]             0         \n",
            "                                                                 \n",
            " dense (Dense)               (None, 1024)              803840    \n",
            "                                                                 \n",
            " dense_1 (Dense)             (None, 512)               524800    \n",
            "                                                                 \n",
            " dense_2 (Dense)             (None, 256)               131328    \n",
            "                                                                 \n",
            " dense_3 (Dense)             (None, 10)                2570      \n",
            "                                                                 \n",
            "=================================================================\n",
            "Total params: 1,462,538\n",
            "Trainable params: 1,462,538\n",
            "Non-trainable params: 0\n",
            "_________________________________________________________________\n"
          ]
        }
      ],
      "source": [
        "#create model and print model summary\n",
        "input_shape= (X_train.shape[1])\n",
        "num_cells= 1024\n",
        "output_shape= len(np.unique(y_test)) \n",
        "\n",
        "model = create_FC_model(input_shape, num_cells, output_shape)\n",
        "\n",
        "model.summary()"
      ]
    },
    {
      "cell_type": "markdown",
      "metadata": {
        "id": "rv_jQkDMVhxR"
      },
      "source": [
        "### Train the baseline-FC model \n",
        "1. (epochs=50, batch_size=1000)\n",
        "2.  save the train history\n",
        "3. use ModelCheckpoint that monitors val_accuracy on X_test 4. save the best model as best_model_base.pt\n",
        "5. use EarlyStopping woith patience=10"
      ]
    },
    {
      "cell_type": "code",
      "execution_count": null,
      "metadata": {
        "id": "HWrTYa2nLmfW",
        "colab": {
          "base_uri": "https://localhost:8080/"
        },
        "outputId": "e73355f7-bdc3-4b07-bf30-c94cf483973b"
      },
      "outputs": [
        {
          "output_type": "stream",
          "name": "stdout",
          "text": [
            "Epoch 1/50\n",
            "60/60 [==============================] - ETA: 0s - loss: 25.0638 - accuracy: 0.6508\n",
            "Epoch 00001: val_accuracy improved from -inf to 0.75750, saving model to best_model_base.pt\n",
            "INFO:tensorflow:Assets written to: best_model_base.pt/assets\n",
            "60/60 [==============================] - 11s 172ms/step - loss: 25.0638 - accuracy: 0.6508 - val_loss: 1.6569 - val_accuracy: 0.7575\n",
            "Epoch 2/50\n",
            "60/60 [==============================] - ETA: 0s - loss: 1.2001 - accuracy: 0.7972\n",
            "Epoch 00002: val_accuracy improved from 0.75750 to 0.81640, saving model to best_model_base.pt\n",
            "INFO:tensorflow:Assets written to: best_model_base.pt/assets\n",
            "60/60 [==============================] - 10s 163ms/step - loss: 1.2001 - accuracy: 0.7972 - val_loss: 0.9307 - val_accuracy: 0.8164\n",
            "Epoch 3/50\n",
            "60/60 [==============================] - ETA: 0s - loss: 0.8227 - accuracy: 0.8207\n",
            "Epoch 00003: val_accuracy did not improve from 0.81640\n",
            "60/60 [==============================] - 9s 149ms/step - loss: 0.8227 - accuracy: 0.8207 - val_loss: 0.7745 - val_accuracy: 0.8103\n",
            "Epoch 4/50\n",
            "60/60 [==============================] - ETA: 0s - loss: 0.5642 - accuracy: 0.8436\n",
            "Epoch 00004: val_accuracy improved from 0.81640 to 0.83220, saving model to best_model_base.pt\n",
            "INFO:tensorflow:Assets written to: best_model_base.pt/assets\n",
            "60/60 [==============================] - 10s 163ms/step - loss: 0.5642 - accuracy: 0.8436 - val_loss: 0.6155 - val_accuracy: 0.8322\n",
            "Epoch 5/50\n",
            "60/60 [==============================] - ETA: 0s - loss: 0.5252 - accuracy: 0.8499\n",
            "Epoch 00005: val_accuracy did not improve from 0.83220\n",
            "60/60 [==============================] - 9s 148ms/step - loss: 0.5252 - accuracy: 0.8499 - val_loss: 0.6503 - val_accuracy: 0.8135\n",
            "Epoch 6/50\n",
            "60/60 [==============================] - ETA: 0s - loss: 0.4371 - accuracy: 0.8646\n",
            "Epoch 00006: val_accuracy improved from 0.83220 to 0.84650, saving model to best_model_base.pt\n",
            "INFO:tensorflow:Assets written to: best_model_base.pt/assets\n",
            "60/60 [==============================] - 10s 163ms/step - loss: 0.4371 - accuracy: 0.8646 - val_loss: 0.5303 - val_accuracy: 0.8465\n",
            "Epoch 7/50\n",
            "60/60 [==============================] - ETA: 0s - loss: 0.3909 - accuracy: 0.8729\n",
            "Epoch 00007: val_accuracy did not improve from 0.84650\n",
            "60/60 [==============================] - 9s 148ms/step - loss: 0.3909 - accuracy: 0.8729 - val_loss: 0.5387 - val_accuracy: 0.8407\n",
            "Epoch 8/50\n",
            "60/60 [==============================] - ETA: 0s - loss: 0.3862 - accuracy: 0.8750\n",
            "Epoch 00008: val_accuracy improved from 0.84650 to 0.85840, saving model to best_model_base.pt\n",
            "INFO:tensorflow:Assets written to: best_model_base.pt/assets\n",
            "60/60 [==============================] - 10s 162ms/step - loss: 0.3862 - accuracy: 0.8750 - val_loss: 0.4752 - val_accuracy: 0.8584\n",
            "Epoch 9/50\n",
            "60/60 [==============================] - ETA: 0s - loss: 0.3243 - accuracy: 0.8881\n",
            "Epoch 00009: val_accuracy did not improve from 0.85840\n",
            "60/60 [==============================] - 9s 149ms/step - loss: 0.3243 - accuracy: 0.8881 - val_loss: 0.5070 - val_accuracy: 0.8469\n",
            "Epoch 10/50\n",
            "60/60 [==============================] - ETA: 0s - loss: 0.3289 - accuracy: 0.8872\n",
            "Epoch 00010: val_accuracy did not improve from 0.85840\n",
            "60/60 [==============================] - 9s 148ms/step - loss: 0.3289 - accuracy: 0.8872 - val_loss: 0.4739 - val_accuracy: 0.8546\n",
            "Epoch 11/50\n",
            "60/60 [==============================] - ETA: 0s - loss: 0.2937 - accuracy: 0.8973\n",
            "Epoch 00011: val_accuracy did not improve from 0.85840\n",
            "60/60 [==============================] - 9s 148ms/step - loss: 0.2937 - accuracy: 0.8973 - val_loss: 0.4496 - val_accuracy: 0.8579\n",
            "Epoch 12/50\n",
            "60/60 [==============================] - ETA: 0s - loss: 0.2889 - accuracy: 0.8982\n",
            "Epoch 00012: val_accuracy improved from 0.85840 to 0.86230, saving model to best_model_base.pt\n",
            "INFO:tensorflow:Assets written to: best_model_base.pt/assets\n",
            "60/60 [==============================] - 10s 163ms/step - loss: 0.2889 - accuracy: 0.8982 - val_loss: 0.4520 - val_accuracy: 0.8623\n",
            "Epoch 13/50\n",
            "60/60 [==============================] - ETA: 0s - loss: 0.2708 - accuracy: 0.9017\n",
            "Epoch 00013: val_accuracy did not improve from 0.86230\n",
            "60/60 [==============================] - 9s 149ms/step - loss: 0.2708 - accuracy: 0.9017 - val_loss: 0.4969 - val_accuracy: 0.8522\n",
            "Epoch 14/50\n",
            "60/60 [==============================] - ETA: 0s - loss: 0.2773 - accuracy: 0.9017\n",
            "Epoch 00014: val_accuracy improved from 0.86230 to 0.86820, saving model to best_model_base.pt\n",
            "INFO:tensorflow:Assets written to: best_model_base.pt/assets\n",
            "60/60 [==============================] - 10s 169ms/step - loss: 0.2773 - accuracy: 0.9017 - val_loss: 0.4301 - val_accuracy: 0.8682\n",
            "Epoch 15/50\n",
            "60/60 [==============================] - ETA: 0s - loss: 0.2529 - accuracy: 0.9095\n",
            "Epoch 00015: val_accuracy did not improve from 0.86820\n",
            "60/60 [==============================] - 9s 149ms/step - loss: 0.2529 - accuracy: 0.9095 - val_loss: 0.4855 - val_accuracy: 0.8496\n",
            "Epoch 16/50\n",
            "60/60 [==============================] - ETA: 0s - loss: 0.2460 - accuracy: 0.9113\n",
            "Epoch 00016: val_accuracy did not improve from 0.86820\n",
            "60/60 [==============================] - 9s 149ms/step - loss: 0.2460 - accuracy: 0.9113 - val_loss: 0.4437 - val_accuracy: 0.8622\n",
            "Epoch 17/50\n",
            "60/60 [==============================] - ETA: 0s - loss: 0.2158 - accuracy: 0.9219\n",
            "Epoch 00017: val_accuracy improved from 0.86820 to 0.87090, saving model to best_model_base.pt\n",
            "INFO:tensorflow:Assets written to: best_model_base.pt/assets\n",
            "60/60 [==============================] - 10s 164ms/step - loss: 0.2158 - accuracy: 0.9219 - val_loss: 0.4189 - val_accuracy: 0.8709\n",
            "Epoch 18/50\n",
            "60/60 [==============================] - ETA: 0s - loss: 0.2113 - accuracy: 0.9226\n",
            "Epoch 00018: val_accuracy improved from 0.87090 to 0.87230, saving model to best_model_base.pt\n",
            "INFO:tensorflow:Assets written to: best_model_base.pt/assets\n",
            "60/60 [==============================] - 10s 164ms/step - loss: 0.2113 - accuracy: 0.9226 - val_loss: 0.4227 - val_accuracy: 0.8723\n",
            "Epoch 19/50\n",
            "60/60 [==============================] - ETA: 0s - loss: 0.2079 - accuracy: 0.9230\n",
            "Epoch 00019: val_accuracy did not improve from 0.87230\n",
            "60/60 [==============================] - 9s 149ms/step - loss: 0.2079 - accuracy: 0.9230 - val_loss: 0.4373 - val_accuracy: 0.8663\n",
            "Epoch 20/50\n",
            "60/60 [==============================] - ETA: 0s - loss: 0.2074 - accuracy: 0.9236\n",
            "Epoch 00020: val_accuracy did not improve from 0.87230\n",
            "60/60 [==============================] - 9s 149ms/step - loss: 0.2074 - accuracy: 0.9236 - val_loss: 0.4368 - val_accuracy: 0.8717\n",
            "Epoch 21/50\n",
            "60/60 [==============================] - ETA: 0s - loss: 0.1855 - accuracy: 0.9313\n",
            "Epoch 00021: val_accuracy did not improve from 0.87230\n",
            "60/60 [==============================] - 9s 149ms/step - loss: 0.1855 - accuracy: 0.9313 - val_loss: 0.4144 - val_accuracy: 0.8719\n",
            "Epoch 22/50\n",
            "60/60 [==============================] - ETA: 0s - loss: 0.1913 - accuracy: 0.9287\n",
            "Epoch 00022: val_accuracy improved from 0.87230 to 0.87500, saving model to best_model_base.pt\n",
            "INFO:tensorflow:Assets written to: best_model_base.pt/assets\n",
            "60/60 [==============================] - 10s 165ms/step - loss: 0.1913 - accuracy: 0.9287 - val_loss: 0.4199 - val_accuracy: 0.8750\n",
            "Epoch 23/50\n",
            "60/60 [==============================] - ETA: 0s - loss: 0.2023 - accuracy: 0.9259\n",
            "Epoch 00023: val_accuracy did not improve from 0.87500\n",
            "60/60 [==============================] - 9s 150ms/step - loss: 0.2023 - accuracy: 0.9259 - val_loss: 0.4235 - val_accuracy: 0.8721\n",
            "Epoch 24/50\n",
            "60/60 [==============================] - ETA: 0s - loss: 0.1778 - accuracy: 0.9353\n",
            "Epoch 00024: val_accuracy did not improve from 0.87500\n",
            "60/60 [==============================] - 9s 149ms/step - loss: 0.1778 - accuracy: 0.9353 - val_loss: 0.4323 - val_accuracy: 0.8714\n",
            "Epoch 25/50\n",
            "60/60 [==============================] - ETA: 0s - loss: 0.1683 - accuracy: 0.9383\n",
            "Epoch 00025: val_accuracy improved from 0.87500 to 0.87560, saving model to best_model_base.pt\n",
            "INFO:tensorflow:Assets written to: best_model_base.pt/assets\n",
            "60/60 [==============================] - 10s 165ms/step - loss: 0.1683 - accuracy: 0.9383 - val_loss: 0.4189 - val_accuracy: 0.8756\n",
            "Epoch 26/50\n",
            "60/60 [==============================] - ETA: 0s - loss: 0.1637 - accuracy: 0.9397\n",
            "Epoch 00026: val_accuracy did not improve from 0.87560\n",
            "60/60 [==============================] - 9s 150ms/step - loss: 0.1637 - accuracy: 0.9397 - val_loss: 0.4472 - val_accuracy: 0.8676\n",
            "Epoch 27/50\n",
            "60/60 [==============================] - ETA: 0s - loss: 0.1617 - accuracy: 0.9408\n",
            "Epoch 00027: val_accuracy improved from 0.87560 to 0.87660, saving model to best_model_base.pt\n",
            "INFO:tensorflow:Assets written to: best_model_base.pt/assets\n",
            "60/60 [==============================] - 10s 165ms/step - loss: 0.1617 - accuracy: 0.9408 - val_loss: 0.4176 - val_accuracy: 0.8766\n",
            "Epoch 28/50\n",
            "60/60 [==============================] - ETA: 0s - loss: 0.1535 - accuracy: 0.9435\n",
            "Epoch 00028: val_accuracy improved from 0.87660 to 0.87740, saving model to best_model_base.pt\n",
            "INFO:tensorflow:Assets written to: best_model_base.pt/assets\n",
            "60/60 [==============================] - 10s 165ms/step - loss: 0.1535 - accuracy: 0.9435 - val_loss: 0.4159 - val_accuracy: 0.8774\n",
            "Epoch 29/50\n",
            "60/60 [==============================] - ETA: 0s - loss: 0.1559 - accuracy: 0.9424\n",
            "Epoch 00029: val_accuracy did not improve from 0.87740\n",
            "60/60 [==============================] - 9s 149ms/step - loss: 0.1559 - accuracy: 0.9424 - val_loss: 0.4382 - val_accuracy: 0.8772\n",
            "Epoch 30/50\n",
            "60/60 [==============================] - ETA: 0s - loss: 0.1586 - accuracy: 0.9409\n",
            "Epoch 00030: val_accuracy did not improve from 0.87740\n",
            "60/60 [==============================] - 9s 149ms/step - loss: 0.1586 - accuracy: 0.9409 - val_loss: 0.4515 - val_accuracy: 0.8711\n",
            "Epoch 31/50\n",
            "60/60 [==============================] - ETA: 0s - loss: 0.1496 - accuracy: 0.9459\n",
            "Epoch 00031: val_accuracy improved from 0.87740 to 0.88060, saving model to best_model_base.pt\n",
            "INFO:tensorflow:Assets written to: best_model_base.pt/assets\n",
            "60/60 [==============================] - 10s 165ms/step - loss: 0.1496 - accuracy: 0.9459 - val_loss: 0.4287 - val_accuracy: 0.8806\n"
          ]
        }
      ],
      "source": [
        "# train baseline-FC model\n",
        "path = 'best_model_base.pt' \n",
        "callback1 = ModelCheckpoint(path, \n",
        "                            monitor='val_accuracy',\n",
        "                            save_best_only=True, \n",
        "                            mode='max', \n",
        "                            verbose=1)\n",
        "\n",
        "callaback2 = EarlyStopping(patience=10)\n",
        "\n",
        "callback_list = [callback1, callaback2]\n",
        "\n",
        "train_history_base_FC = model.fit(X_train, y_train, \n",
        "                                    epochs=50, \n",
        "                                    callbacks=callback_list, \n",
        "                                    validation_data=(X_test, y_test), \n",
        "                                    batch_size=1000)"
      ]
    },
    {
      "cell_type": "markdown",
      "metadata": {
        "id": "Zn2OHWMnVt_9"
      },
      "source": [
        "### Load best_model_base.pt"
      ]
    },
    {
      "cell_type": "code",
      "execution_count": null,
      "metadata": {
        "id": "tynHjq4DD6Az"
      },
      "outputs": [],
      "source": [
        "#load  best_model_base.pt and use it on the test data\n",
        "m_base_FC = load_model('/content/best_model_base.pt')\n",
        "pred_base_FC = m_base_FC.predict(X_test)\n",
        "pred_base_FC = np.argmax(pred_base_FC, axis=1)"
      ]
    },
    {
      "cell_type": "markdown",
      "metadata": {
        "id": "F2Mb1jJ8VzfG"
      },
      "source": [
        "### Print a confusion matrix and classification report for best_model_base"
      ]
    },
    {
      "cell_type": "code",
      "execution_count": null,
      "metadata": {
        "id": "S4kY6TTTXtvf",
        "colab": {
          "base_uri": "https://localhost:8080/"
        },
        "outputId": "2fca83e7-324c-4b7b-e111-636758b2849f"
      },
      "outputs": [
        {
          "output_type": "stream",
          "name": "stdout",
          "text": [
            "=====DNN-Base Evaluation=====\n",
            "Confusion matrix\n",
            "[[940   5   8  11   1   1  27   0   7   0]\n",
            " [544 443   0  10   0   0   2   0   1   0]\n",
            " [377  10 555  10  20   1  27   0   0   0]\n",
            " [393  74  45 470   5   0   8   0   4   1]\n",
            " [147  22 628  41 140   0  19   0   3   0]\n",
            " [  7   0  10   0   0 978   0   3   0   2]\n",
            " [442   8 237  23  68   0 216   0   6   0]\n",
            " [  0   0  10   0   0 669   0 320   0   1]\n",
            " [126   1  19   1 137  47 123  19 527   0]\n",
            " [ 19   0 222   0   0 485   0 207   0  67]]\n",
            "\n",
            "              precision    recall  f1-score   support\n",
            "\n",
            " T-shirt/top       0.31      0.94      0.47      1000\n",
            "     Trouser       0.79      0.44      0.57      1000\n",
            "    Pullover       0.32      0.56      0.41      1000\n",
            "       Dress       0.83      0.47      0.60      1000\n",
            "        Coat       0.38      0.14      0.20      1000\n",
            "      Sandal       0.45      0.98      0.61      1000\n",
            "       Shirt       0.51      0.22      0.30      1000\n",
            "     Sneaker       0.58      0.32      0.41      1000\n",
            "         Bag       0.96      0.53      0.68      1000\n",
            "  Ankle boot       0.94      0.07      0.13      1000\n",
            "\n",
            "    accuracy                           0.47     10000\n",
            "   macro avg       0.61      0.47      0.44     10000\n",
            "weighted avg       0.61      0.47      0.44     10000\n",
            "\n"
          ]
        }
      ],
      "source": [
        "print('=====DNN-Base Evaluation=====')\n",
        "print_classification_report(y_test, pred_base_FC, label_names)"
      ]
    },
    {
      "cell_type": "markdown",
      "metadata": {
        "id": "GQH4AdPynC2U"
      },
      "source": [
        "## DNN model with scaled data, dropout and batchnormalization"
      ]
    },
    {
      "cell_type": "markdown",
      "metadata": {
        "id": "O_zB4PbyV50Q"
      },
      "source": [
        "### Create a dropout-FC model with\n",
        "1.  three hidden layers (1024,512 and 256 neurons)\n",
        "2. a dropout layer after each hidden layer \n",
        "3. use same loss and optimizer as for the baseline-FC model\n"
      ]
    },
    {
      "cell_type": "code",
      "source": [
        "def create_FC_model(input_shape, num_cells, output_shape ):\n",
        "  \n",
        "  _input = Input(shape = input_shape)\n",
        "  \n",
        "  layer =  Dense(num_cells, activation= 'relu')(_input)\n",
        "  layer =  Dense(num_cells//2, activation= 'relu')(layer)\n",
        "  layer =  Dense(num_cells//4, activation= 'relu')(layer)\n",
        "  _output = Dense(output_shape, activation='sigmoid')(layer)\n",
        "\n",
        "  my_model = Model(inputs=[_input], outputs=[_output])\n",
        "  my_model.compile(loss='sparse_categorical_crossentropy', optimizer='adam', metrics=['accuracy'])\n",
        "\n",
        "  return my_model\n",
        "\n",
        "def create_FC_Drop_Batch_model(input_shape, num_cells, output_shape ):\n",
        "  drop_rate = .3\n",
        "\n",
        "  _input = Input(input_shape)\n",
        "\n",
        "  layer = BatchNormalization()(_input)\n",
        "\n",
        "  layer =  Dense(num_cells, activation= 'relu')(layer)\n",
        "  layer = BatchNormalization()(layer)\n",
        "  layer = Dropout(drop_rate)(layer)\n",
        "\n",
        "  layer =  Dense(num_cells//2, activation= 'relu')(layer)\n",
        "  layer = BatchNormalization()(layer)\n",
        "  layer = Dropout(drop_rate)(layer)\n",
        "\n",
        "  layer =  Dense(num_cells//4, activation= 'relu')(layer)\n",
        "  layer = BatchNormalization()(layer)\n",
        "  layer = Dropout(drop_rate)(layer)\n",
        "\n",
        "  _output = Dense(output_shape, activation='sigmoid')(layer)\n",
        "  my_model = Model(inputs=[_input], outputs=[_output])\n",
        "  my_model.compile(loss='sparse_categorical_crossentropy', optimizer='adam', metrics=['accuracy'])\n",
        "\n",
        "  return my_model\n"
      ],
      "metadata": {
        "id": "WtHokEW6at1Y"
      },
      "execution_count": null,
      "outputs": []
    },
    {
      "cell_type": "code",
      "execution_count": null,
      "metadata": {
        "id": "UxhRkocXZIYa",
        "colab": {
          "base_uri": "https://localhost:8080/"
        },
        "outputId": "78b2b192-265a-419b-9ccc-d40be364dd6f"
      },
      "outputs": [
        {
          "output_type": "stream",
          "name": "stdout",
          "text": [
            "Model: \"model_1\"\n",
            "_________________________________________________________________\n",
            " Layer (type)                Output Shape              Param #   \n",
            "=================================================================\n",
            " input_2 (InputLayer)        [(None, 784)]             0         \n",
            "                                                                 \n",
            " dense_4 (Dense)             (None, 1024)              803840    \n",
            "                                                                 \n",
            " dense_5 (Dense)             (None, 512)               524800    \n",
            "                                                                 \n",
            " dense_6 (Dense)             (None, 256)               131328    \n",
            "                                                                 \n",
            " dense_7 (Dense)             (None, 10)                2570      \n",
            "                                                                 \n",
            "=================================================================\n",
            "Total params: 1,462,538\n",
            "Trainable params: 1,462,538\n",
            "Non-trainable params: 0\n",
            "_________________________________________________________________\n",
            "None\n",
            "\n",
            "Model: \"model_2\"\n",
            "_________________________________________________________________\n",
            " Layer (type)                Output Shape              Param #   \n",
            "=================================================================\n",
            " input_3 (InputLayer)        [(None, 784)]             0         \n",
            "                                                                 \n",
            " batch_normalization (BatchN  (None, 784)              3136      \n",
            " ormalization)                                                   \n",
            "                                                                 \n",
            " dense_8 (Dense)             (None, 1024)              803840    \n",
            "                                                                 \n",
            " batch_normalization_1 (Batc  (None, 1024)             4096      \n",
            " hNormalization)                                                 \n",
            "                                                                 \n",
            " dropout (Dropout)           (None, 1024)              0         \n",
            "                                                                 \n",
            " dense_9 (Dense)             (None, 512)               524800    \n",
            "                                                                 \n",
            " batch_normalization_2 (Batc  (None, 512)              2048      \n",
            " hNormalization)                                                 \n",
            "                                                                 \n",
            " dropout_1 (Dropout)         (None, 512)               0         \n",
            "                                                                 \n",
            " dense_10 (Dense)            (None, 256)               131328    \n",
            "                                                                 \n",
            " batch_normalization_3 (Batc  (None, 256)              1024      \n",
            " hNormalization)                                                 \n",
            "                                                                 \n",
            " dropout_2 (Dropout)         (None, 256)               0         \n",
            "                                                                 \n",
            " dense_11 (Dense)            (None, 10)                2570      \n",
            "                                                                 \n",
            "=================================================================\n",
            "Total params: 1,472,842\n",
            "Trainable params: 1,467,690\n",
            "Non-trainable params: 5,152\n",
            "_________________________________________________________________\n",
            "None\n"
          ]
        }
      ],
      "source": [
        "#create model and print model summary\n",
        "input_shape= (X_train_scaled.shape[1])\n",
        "num_cells= 1024\n",
        "output_shape= len(np.unique(y_test)) \n",
        "\n",
        "# base_FC on scaled dataset\n",
        "model_scaled = create_FC_model(input_shape, num_cells, output_shape)\n",
        "FC_summary = model_scaled.summary()\n",
        "print(FC_summary)\n",
        "print()\n",
        "\n",
        "# dropout_FC on scaled dataset\n",
        "model_scaled_drop_bn = create_FC_Drop_Batch_model(input_shape,num_cells,output_shape)\n",
        "drop_summary = model_scaled_drop_bn.summary()\n",
        "print(drop_summary)"
      ]
    },
    {
      "cell_type": "markdown",
      "metadata": {
        "id": "idvv6ntbWECE"
      },
      "source": [
        "### Train the dropout-FC model using \n",
        "1. the same training parameters as for the base-FC model (epochs=50, batch_size=1000)\n",
        "2. save the train history\n",
        "3. use the same callbacks and save the model as model as best-dropout-FC.pt"
      ]
    },
    {
      "cell_type": "code",
      "execution_count": null,
      "metadata": {
        "id": "1WaYS3yeWXmU",
        "colab": {
          "base_uri": "https://localhost:8080/"
        },
        "outputId": "51dc4a87-3c5b-4b50-951c-bcb0edec7476"
      },
      "outputs": [
        {
          "output_type": "stream",
          "name": "stdout",
          "text": [
            "Epoch 1/50\n",
            "60/60 [==============================] - ETA: 0s - loss: 0.6465 - accuracy: 0.7725\n",
            "Epoch 00001: val_accuracy improved from -inf to 0.84050, saving model to best_model_base_scaled.pt\n",
            "INFO:tensorflow:Assets written to: best_model_base_scaled.pt/assets\n",
            "60/60 [==============================] - 10s 166ms/step - loss: 0.6465 - accuracy: 0.7725 - val_loss: 0.4490 - val_accuracy: 0.8405\n",
            "Epoch 2/50\n",
            "60/60 [==============================] - ETA: 0s - loss: 0.3941 - accuracy: 0.8594\n",
            "Epoch 00002: val_accuracy improved from 0.84050 to 0.85950, saving model to best_model_base_scaled.pt\n",
            "INFO:tensorflow:Assets written to: best_model_base_scaled.pt/assets\n",
            "60/60 [==============================] - 10s 162ms/step - loss: 0.3941 - accuracy: 0.8594 - val_loss: 0.3915 - val_accuracy: 0.8595\n",
            "Epoch 3/50\n",
            "60/60 [==============================] - ETA: 0s - loss: 0.3462 - accuracy: 0.8748\n",
            "Epoch 00003: val_accuracy improved from 0.85950 to 0.86380, saving model to best_model_base_scaled.pt\n",
            "INFO:tensorflow:Assets written to: best_model_base_scaled.pt/assets\n",
            "60/60 [==============================] - 10s 162ms/step - loss: 0.3462 - accuracy: 0.8748 - val_loss: 0.3748 - val_accuracy: 0.8638\n",
            "Epoch 4/50\n",
            "60/60 [==============================] - ETA: 0s - loss: 0.3083 - accuracy: 0.8877\n",
            "Epoch 00004: val_accuracy improved from 0.86380 to 0.87480, saving model to best_model_base_scaled.pt\n",
            "INFO:tensorflow:Assets written to: best_model_base_scaled.pt/assets\n",
            "60/60 [==============================] - 10s 163ms/step - loss: 0.3083 - accuracy: 0.8877 - val_loss: 0.3482 - val_accuracy: 0.8748\n",
            "Epoch 5/50\n",
            "60/60 [==============================] - ETA: 0s - loss: 0.2847 - accuracy: 0.8956\n",
            "Epoch 00005: val_accuracy did not improve from 0.87480\n",
            "60/60 [==============================] - 9s 147ms/step - loss: 0.2847 - accuracy: 0.8956 - val_loss: 0.3552 - val_accuracy: 0.8725\n",
            "Epoch 6/50\n",
            "60/60 [==============================] - ETA: 0s - loss: 0.2723 - accuracy: 0.8994\n",
            "Epoch 00006: val_accuracy improved from 0.87480 to 0.88170, saving model to best_model_base_scaled.pt\n",
            "INFO:tensorflow:Assets written to: best_model_base_scaled.pt/assets\n",
            "60/60 [==============================] - 10s 162ms/step - loss: 0.2723 - accuracy: 0.8994 - val_loss: 0.3355 - val_accuracy: 0.8817\n",
            "Epoch 7/50\n",
            "60/60 [==============================] - ETA: 0s - loss: 0.2490 - accuracy: 0.9081\n",
            "Epoch 00007: val_accuracy did not improve from 0.88170\n",
            "60/60 [==============================] - 9s 148ms/step - loss: 0.2490 - accuracy: 0.9081 - val_loss: 0.3257 - val_accuracy: 0.8812\n",
            "Epoch 8/50\n",
            "60/60 [==============================] - ETA: 0s - loss: 0.2391 - accuracy: 0.9114\n",
            "Epoch 00008: val_accuracy did not improve from 0.88170\n",
            "60/60 [==============================] - 9s 147ms/step - loss: 0.2391 - accuracy: 0.9114 - val_loss: 0.3399 - val_accuracy: 0.8781\n",
            "Epoch 9/50\n",
            "60/60 [==============================] - ETA: 0s - loss: 0.2332 - accuracy: 0.9118\n",
            "Epoch 00009: val_accuracy improved from 0.88170 to 0.88530, saving model to best_model_base_scaled.pt\n",
            "INFO:tensorflow:Assets written to: best_model_base_scaled.pt/assets\n",
            "60/60 [==============================] - 10s 166ms/step - loss: 0.2332 - accuracy: 0.9118 - val_loss: 0.3195 - val_accuracy: 0.8853\n",
            "Epoch 10/50\n",
            "60/60 [==============================] - ETA: 0s - loss: 0.2163 - accuracy: 0.9190\n",
            "Epoch 00010: val_accuracy improved from 0.88530 to 0.88620, saving model to best_model_base_scaled.pt\n",
            "INFO:tensorflow:Assets written to: best_model_base_scaled.pt/assets\n",
            "60/60 [==============================] - 10s 162ms/step - loss: 0.2163 - accuracy: 0.9190 - val_loss: 0.3168 - val_accuracy: 0.8862\n",
            "Epoch 11/50\n",
            "60/60 [==============================] - ETA: 0s - loss: 0.2098 - accuracy: 0.9208\n",
            "Epoch 00011: val_accuracy improved from 0.88620 to 0.89420, saving model to best_model_base_scaled.pt\n",
            "INFO:tensorflow:Assets written to: best_model_base_scaled.pt/assets\n",
            "60/60 [==============================] - 10s 162ms/step - loss: 0.2098 - accuracy: 0.9208 - val_loss: 0.3092 - val_accuracy: 0.8942\n",
            "Epoch 12/50\n",
            "60/60 [==============================] - ETA: 0s - loss: 0.2002 - accuracy: 0.9248\n",
            "Epoch 00012: val_accuracy did not improve from 0.89420\n",
            "60/60 [==============================] - 9s 147ms/step - loss: 0.2002 - accuracy: 0.9248 - val_loss: 0.3048 - val_accuracy: 0.8904\n",
            "Epoch 13/50\n",
            "60/60 [==============================] - ETA: 0s - loss: 0.1915 - accuracy: 0.9285\n",
            "Epoch 00013: val_accuracy did not improve from 0.89420\n",
            "60/60 [==============================] - 9s 147ms/step - loss: 0.1915 - accuracy: 0.9285 - val_loss: 0.3130 - val_accuracy: 0.8933\n",
            "Epoch 14/50\n",
            "60/60 [==============================] - ETA: 0s - loss: 0.1810 - accuracy: 0.9319\n",
            "Epoch 00014: val_accuracy did not improve from 0.89420\n",
            "60/60 [==============================] - 9s 147ms/step - loss: 0.1810 - accuracy: 0.9319 - val_loss: 0.3383 - val_accuracy: 0.8888\n",
            "Epoch 15/50\n",
            "60/60 [==============================] - ETA: 0s - loss: 0.1734 - accuracy: 0.9341\n",
            "Epoch 00015: val_accuracy improved from 0.89420 to 0.89680, saving model to best_model_base_scaled.pt\n",
            "INFO:tensorflow:Assets written to: best_model_base_scaled.pt/assets\n",
            "60/60 [==============================] - 10s 162ms/step - loss: 0.1734 - accuracy: 0.9341 - val_loss: 0.3169 - val_accuracy: 0.8968\n",
            "Epoch 16/50\n",
            "60/60 [==============================] - ETA: 0s - loss: 0.1624 - accuracy: 0.9383\n",
            "Epoch 00016: val_accuracy did not improve from 0.89680\n",
            "60/60 [==============================] - 9s 147ms/step - loss: 0.1624 - accuracy: 0.9383 - val_loss: 0.3238 - val_accuracy: 0.8935\n",
            "Epoch 17/50\n",
            "60/60 [==============================] - ETA: 0s - loss: 0.1617 - accuracy: 0.9392\n",
            "Epoch 00017: val_accuracy did not improve from 0.89680\n",
            "60/60 [==============================] - 9s 147ms/step - loss: 0.1617 - accuracy: 0.9392 - val_loss: 0.3251 - val_accuracy: 0.8930\n",
            "Epoch 18/50\n",
            "60/60 [==============================] - ETA: 0s - loss: 0.1630 - accuracy: 0.9381\n",
            "Epoch 00018: val_accuracy did not improve from 0.89680\n",
            "60/60 [==============================] - 9s 148ms/step - loss: 0.1630 - accuracy: 0.9381 - val_loss: 0.3289 - val_accuracy: 0.8930\n",
            "Epoch 19/50\n",
            "60/60 [==============================] - ETA: 0s - loss: 0.1510 - accuracy: 0.9431\n",
            "Epoch 00019: val_accuracy did not improve from 0.89680\n",
            "60/60 [==============================] - 9s 149ms/step - loss: 0.1510 - accuracy: 0.9431 - val_loss: 0.3491 - val_accuracy: 0.8878\n",
            "Epoch 20/50\n",
            "60/60 [==============================] - ETA: 0s - loss: 0.1536 - accuracy: 0.9422\n",
            "Epoch 00020: val_accuracy did not improve from 0.89680\n",
            "60/60 [==============================] - 9s 148ms/step - loss: 0.1536 - accuracy: 0.9422 - val_loss: 0.3549 - val_accuracy: 0.8940\n",
            "Epoch 21/50\n",
            "60/60 [==============================] - ETA: 0s - loss: 0.1388 - accuracy: 0.9469\n",
            "Epoch 00021: val_accuracy did not improve from 0.89680\n",
            "60/60 [==============================] - 9s 148ms/step - loss: 0.1388 - accuracy: 0.9469 - val_loss: 0.3454 - val_accuracy: 0.8957\n",
            "Epoch 22/50\n",
            "60/60 [==============================] - ETA: 0s - loss: 0.1298 - accuracy: 0.9520\n",
            "Epoch 00022: val_accuracy improved from 0.89680 to 0.89750, saving model to best_model_base_scaled.pt\n",
            "INFO:tensorflow:Assets written to: best_model_base_scaled.pt/assets\n",
            "60/60 [==============================] - 10s 163ms/step - loss: 0.1298 - accuracy: 0.9520 - val_loss: 0.3455 - val_accuracy: 0.8975\n"
          ]
        }
      ],
      "source": [
        "# train base_FC model on scaled dataset\n",
        "path = 'best_model_base_scaled.pt' \n",
        "callback1 = ModelCheckpoint(path, \n",
        "                            monitor='val_accuracy',\n",
        "                            save_best_only=True, \n",
        "                            mode='max', \n",
        "                            verbose=1)\n",
        "\n",
        "callaback2 = EarlyStopping(patience=10)\n",
        "callback_list = [callback1, callaback2]\n",
        "\n",
        "train_history_base_FC_scaled = model_scaled.fit(X_train_scaled, y_train, \n",
        "                                    epochs=50, \n",
        "                                    callbacks=callback_list, \n",
        "                                    validation_data=(X_test_scaled, y_test), \n",
        "                                    batch_size=1000)"
      ]
    },
    {
      "cell_type": "code",
      "source": [
        "# train dropout_FC model on scaled dataset\n",
        "path = 'best_dropout_FC.pt' \n",
        "callback1 = ModelCheckpoint(path, \n",
        "                            monitor='val_accuracy',\n",
        "                            save_best_only=True, \n",
        "                            mode='max', \n",
        "                            verbose=1)\n",
        "\n",
        "callaback2 = EarlyStopping(patience=10)\n",
        "callback_list = [callback1, callaback2]\n",
        "\n",
        "train_history_dropout_FC = model_scaled_drop_bn.fit(X_train_scaled, y_train, \n",
        "                                    epochs=50, \n",
        "                                    callbacks=callback_list, \n",
        "                                    validation_data=(X_test_scaled, y_test), \n",
        "                                    batch_size=1000)"
      ],
      "metadata": {
        "colab": {
          "base_uri": "https://localhost:8080/"
        },
        "id": "0jW44LfIc7AI",
        "outputId": "eef5cf09-b835-4d72-f0a0-29ffc5546568"
      },
      "execution_count": null,
      "outputs": [
        {
          "output_type": "stream",
          "name": "stdout",
          "text": [
            "Epoch 1/50\n",
            "60/60 [==============================] - ETA: 0s - loss: 0.6139 - accuracy: 0.7908\n",
            "Epoch 00001: val_accuracy improved from -inf to 0.71660, saving model to best_dropout_FC.pt\n",
            "INFO:tensorflow:Assets written to: best_dropout_FC.pt/assets\n",
            "60/60 [==============================] - 17s 272ms/step - loss: 0.6139 - accuracy: 0.7908 - val_loss: 0.8784 - val_accuracy: 0.7166\n",
            "Epoch 2/50\n",
            "60/60 [==============================] - ETA: 0s - loss: 0.4001 - accuracy: 0.8550\n",
            "Epoch 00002: val_accuracy improved from 0.71660 to 0.78790, saving model to best_dropout_FC.pt\n",
            "INFO:tensorflow:Assets written to: best_dropout_FC.pt/assets\n",
            "60/60 [==============================] - 16s 266ms/step - loss: 0.4001 - accuracy: 0.8550 - val_loss: 0.6421 - val_accuracy: 0.7879\n",
            "Epoch 3/50\n",
            "60/60 [==============================] - ETA: 0s - loss: 0.3521 - accuracy: 0.8712\n",
            "Epoch 00003: val_accuracy improved from 0.78790 to 0.81170, saving model to best_dropout_FC.pt\n",
            "INFO:tensorflow:Assets written to: best_dropout_FC.pt/assets\n",
            "60/60 [==============================] - 16s 266ms/step - loss: 0.3521 - accuracy: 0.8712 - val_loss: 0.5532 - val_accuracy: 0.8117\n",
            "Epoch 4/50\n",
            "60/60 [==============================] - ETA: 0s - loss: 0.3240 - accuracy: 0.8803\n",
            "Epoch 00004: val_accuracy improved from 0.81170 to 0.85810, saving model to best_dropout_FC.pt\n",
            "INFO:tensorflow:Assets written to: best_dropout_FC.pt/assets\n",
            "60/60 [==============================] - 16s 273ms/step - loss: 0.3240 - accuracy: 0.8803 - val_loss: 0.3993 - val_accuracy: 0.8581\n",
            "Epoch 5/50\n",
            "60/60 [==============================] - ETA: 0s - loss: 0.3064 - accuracy: 0.8862\n",
            "Epoch 00005: val_accuracy improved from 0.85810 to 0.86870, saving model to best_dropout_FC.pt\n",
            "INFO:tensorflow:Assets written to: best_dropout_FC.pt/assets\n",
            "60/60 [==============================] - 16s 265ms/step - loss: 0.3064 - accuracy: 0.8862 - val_loss: 0.3617 - val_accuracy: 0.8687\n",
            "Epoch 6/50\n",
            "60/60 [==============================] - ETA: 0s - loss: 0.2864 - accuracy: 0.8929\n",
            "Epoch 00006: val_accuracy did not improve from 0.86870\n",
            "60/60 [==============================] - 13s 224ms/step - loss: 0.2864 - accuracy: 0.8929 - val_loss: 0.3572 - val_accuracy: 0.8682\n",
            "Epoch 7/50\n",
            "60/60 [==============================] - ETA: 0s - loss: 0.2712 - accuracy: 0.8990\n",
            "Epoch 00007: val_accuracy improved from 0.86870 to 0.88040, saving model to best_dropout_FC.pt\n",
            "INFO:tensorflow:Assets written to: best_dropout_FC.pt/assets\n",
            "60/60 [==============================] - 16s 264ms/step - loss: 0.2712 - accuracy: 0.8990 - val_loss: 0.3288 - val_accuracy: 0.8804\n",
            "Epoch 8/50\n",
            "60/60 [==============================] - ETA: 0s - loss: 0.2545 - accuracy: 0.9051\n",
            "Epoch 00008: val_accuracy improved from 0.88040 to 0.88630, saving model to best_dropout_FC.pt\n",
            "INFO:tensorflow:Assets written to: best_dropout_FC.pt/assets\n",
            "60/60 [==============================] - 16s 270ms/step - loss: 0.2545 - accuracy: 0.9051 - val_loss: 0.3136 - val_accuracy: 0.8863\n",
            "Epoch 9/50\n",
            "60/60 [==============================] - ETA: 0s - loss: 0.2447 - accuracy: 0.9076\n",
            "Epoch 00009: val_accuracy improved from 0.88630 to 0.88780, saving model to best_dropout_FC.pt\n",
            "INFO:tensorflow:Assets written to: best_dropout_FC.pt/assets\n",
            "60/60 [==============================] - 16s 267ms/step - loss: 0.2447 - accuracy: 0.9076 - val_loss: 0.3160 - val_accuracy: 0.8878\n",
            "Epoch 10/50\n",
            "60/60 [==============================] - ETA: 0s - loss: 0.2347 - accuracy: 0.9114\n",
            "Epoch 00010: val_accuracy improved from 0.88780 to 0.88860, saving model to best_dropout_FC.pt\n",
            "INFO:tensorflow:Assets written to: best_dropout_FC.pt/assets\n",
            "60/60 [==============================] - 16s 268ms/step - loss: 0.2347 - accuracy: 0.9114 - val_loss: 0.3216 - val_accuracy: 0.8886\n",
            "Epoch 11/50\n",
            "60/60 [==============================] - ETA: 0s - loss: 0.2253 - accuracy: 0.9155\n",
            "Epoch 00011: val_accuracy did not improve from 0.88860\n",
            "60/60 [==============================] - 14s 226ms/step - loss: 0.2253 - accuracy: 0.9155 - val_loss: 0.3303 - val_accuracy: 0.8871\n",
            "Epoch 12/50\n",
            "60/60 [==============================] - ETA: 0s - loss: 0.2181 - accuracy: 0.9183\n",
            "Epoch 00012: val_accuracy improved from 0.88860 to 0.89000, saving model to best_dropout_FC.pt\n",
            "INFO:tensorflow:Assets written to: best_dropout_FC.pt/assets\n",
            "60/60 [==============================] - 16s 271ms/step - loss: 0.2181 - accuracy: 0.9183 - val_loss: 0.3167 - val_accuracy: 0.8900\n",
            "Epoch 13/50\n",
            "60/60 [==============================] - ETA: 0s - loss: 0.2054 - accuracy: 0.9227\n",
            "Epoch 00013: val_accuracy improved from 0.89000 to 0.89610, saving model to best_dropout_FC.pt\n",
            "INFO:tensorflow:Assets written to: best_dropout_FC.pt/assets\n",
            "60/60 [==============================] - 16s 265ms/step - loss: 0.2054 - accuracy: 0.9227 - val_loss: 0.3070 - val_accuracy: 0.8961\n",
            "Epoch 14/50\n",
            "60/60 [==============================] - ETA: 0s - loss: 0.2009 - accuracy: 0.9247\n",
            "Epoch 00014: val_accuracy did not improve from 0.89610\n",
            "60/60 [==============================] - 13s 224ms/step - loss: 0.2009 - accuracy: 0.9247 - val_loss: 0.3066 - val_accuracy: 0.8928\n",
            "Epoch 15/50\n",
            "60/60 [==============================] - ETA: 0s - loss: 0.1904 - accuracy: 0.9282\n",
            "Epoch 00015: val_accuracy improved from 0.89610 to 0.89820, saving model to best_dropout_FC.pt\n",
            "INFO:tensorflow:Assets written to: best_dropout_FC.pt/assets\n",
            "60/60 [==============================] - 16s 265ms/step - loss: 0.1904 - accuracy: 0.9282 - val_loss: 0.3102 - val_accuracy: 0.8982\n",
            "Epoch 16/50\n",
            "60/60 [==============================] - ETA: 0s - loss: 0.1819 - accuracy: 0.9316\n",
            "Epoch 00016: val_accuracy did not improve from 0.89820\n",
            "60/60 [==============================] - 13s 224ms/step - loss: 0.1819 - accuracy: 0.9316 - val_loss: 0.3208 - val_accuracy: 0.8916\n",
            "Epoch 17/50\n",
            "60/60 [==============================] - ETA: 0s - loss: 0.1786 - accuracy: 0.9331\n",
            "Epoch 00017: val_accuracy did not improve from 0.89820\n",
            "60/60 [==============================] - 13s 223ms/step - loss: 0.1786 - accuracy: 0.9331 - val_loss: 0.3291 - val_accuracy: 0.8926\n",
            "Epoch 18/50\n",
            "60/60 [==============================] - ETA: 0s - loss: 0.1750 - accuracy: 0.9345\n",
            "Epoch 00018: val_accuracy did not improve from 0.89820\n",
            "60/60 [==============================] - 13s 224ms/step - loss: 0.1750 - accuracy: 0.9345 - val_loss: 0.3184 - val_accuracy: 0.8963\n",
            "Epoch 19/50\n",
            "60/60 [==============================] - ETA: 0s - loss: 0.1643 - accuracy: 0.9383\n",
            "Epoch 00019: val_accuracy did not improve from 0.89820\n",
            "60/60 [==============================] - 13s 223ms/step - loss: 0.1643 - accuracy: 0.9383 - val_loss: 0.3262 - val_accuracy: 0.8973\n",
            "Epoch 20/50\n",
            "60/60 [==============================] - ETA: 0s - loss: 0.1606 - accuracy: 0.9398\n",
            "Epoch 00020: val_accuracy did not improve from 0.89820\n",
            "60/60 [==============================] - 13s 224ms/step - loss: 0.1606 - accuracy: 0.9398 - val_loss: 0.3246 - val_accuracy: 0.8965\n",
            "Epoch 21/50\n",
            "60/60 [==============================] - ETA: 0s - loss: 0.1510 - accuracy: 0.9434\n",
            "Epoch 00021: val_accuracy improved from 0.89820 to 0.90050, saving model to best_dropout_FC.pt\n",
            "INFO:tensorflow:Assets written to: best_dropout_FC.pt/assets\n",
            "60/60 [==============================] - 16s 271ms/step - loss: 0.1510 - accuracy: 0.9434 - val_loss: 0.3366 - val_accuracy: 0.9005\n",
            "Epoch 22/50\n",
            "60/60 [==============================] - ETA: 0s - loss: 0.1463 - accuracy: 0.9451\n",
            "Epoch 00022: val_accuracy did not improve from 0.90050\n",
            "60/60 [==============================] - 13s 225ms/step - loss: 0.1463 - accuracy: 0.9451 - val_loss: 0.3275 - val_accuracy: 0.8982\n",
            "Epoch 23/50\n",
            "60/60 [==============================] - ETA: 0s - loss: 0.1416 - accuracy: 0.9460\n",
            "Epoch 00023: val_accuracy improved from 0.90050 to 0.90100, saving model to best_dropout_FC.pt\n",
            "INFO:tensorflow:Assets written to: best_dropout_FC.pt/assets\n",
            "60/60 [==============================] - 16s 265ms/step - loss: 0.1416 - accuracy: 0.9460 - val_loss: 0.3324 - val_accuracy: 0.9010\n",
            "Epoch 24/50\n",
            "60/60 [==============================] - ETA: 0s - loss: 0.1372 - accuracy: 0.9488\n",
            "Epoch 00024: val_accuracy improved from 0.90100 to 0.90110, saving model to best_dropout_FC.pt\n",
            "INFO:tensorflow:Assets written to: best_dropout_FC.pt/assets\n",
            "60/60 [==============================] - 16s 264ms/step - loss: 0.1372 - accuracy: 0.9488 - val_loss: 0.3379 - val_accuracy: 0.9011\n"
          ]
        }
      ]
    },
    {
      "cell_type": "markdown",
      "metadata": {
        "id": "QcQQNMTVWZCS"
      },
      "source": [
        "### Load best-dropout-FC.pt and use it on the test data"
      ]
    },
    {
      "cell_type": "code",
      "execution_count": null,
      "metadata": {
        "id": "xrBqOW2hF7J2"
      },
      "outputs": [],
      "source": [
        "#load  best_model_base_scaled.pt and use it on the test data\n",
        "m_base_FC_scaled = load_model('/content/best_model_base_scaled.pt')\n",
        "pred_base_FC_scaled = m_base_FC_scaled.predict(X_test_scaled)\n",
        "pred_base_FC_scaled = np.argmax(pred_base_FC_scaled, axis=1)\n",
        "\n",
        "#load  best_dropout_FC.pt and use it on the test data\n",
        "m_dropout_FC_scaled = load_model('/content/best_dropout_FC.pt')\n",
        "pred_dropout_FC_scaled = m_dropout_FC_scaled.predict(X_test_scaled)\n",
        "pred_dropout_FC_scaled = np.argmax(pred_dropout_FC_scaled, axis=1)"
      ]
    },
    {
      "cell_type": "markdown",
      "metadata": {
        "id": "H2YFDhJdWiT_"
      },
      "source": [
        "### Print a confusion matrix and classification report for best-dropout-FC.pt"
      ]
    },
    {
      "cell_type": "code",
      "execution_count": null,
      "metadata": {
        "id": "Qht9mh-VGaje",
        "colab": {
          "base_uri": "https://localhost:8080/"
        },
        "outputId": "5aae18eb-3258-40b4-a103-1f9565e95fc5"
      },
      "outputs": [
        {
          "output_type": "stream",
          "name": "stdout",
          "text": [
            "=====DNN-Base Evaluation on scaled dataset=====\n",
            "Confusion matrix\n",
            "[[884   0   8  18   4   2  80   0   4   0]\n",
            " [  4 974   0  16   2   0   3   0   1   0]\n",
            " [ 27   1 759  18 103   0  89   0   3   0]\n",
            " [ 19   1   4 935  22   0  15   0   4   0]\n",
            " [  2   1  47  29 856   0  59   0   6   0]\n",
            " [  0   0   0   1   0 967   0  17   1  14]\n",
            " [149   0  44  29  79   0 691   0   8   0]\n",
            " [  0   0   0   0   0   9   0 973   0  18]\n",
            " [  3   0   2   5   1   4   3   5 977   0]\n",
            " [  0   0   0   0   0   3   1  36   0 960]]\n",
            "\n",
            "              precision    recall  f1-score   support\n",
            "\n",
            " T-shirt/top       0.81      0.88      0.85      1000\n",
            "     Trouser       1.00      0.97      0.99      1000\n",
            "    Pullover       0.88      0.76      0.81      1000\n",
            "       Dress       0.89      0.94      0.91      1000\n",
            "        Coat       0.80      0.86      0.83      1000\n",
            "      Sandal       0.98      0.97      0.97      1000\n",
            "       Shirt       0.73      0.69      0.71      1000\n",
            "     Sneaker       0.94      0.97      0.96      1000\n",
            "         Bag       0.97      0.98      0.98      1000\n",
            "  Ankle boot       0.97      0.96      0.96      1000\n",
            "\n",
            "    accuracy                           0.90     10000\n",
            "   macro avg       0.90      0.90      0.90     10000\n",
            "weighted avg       0.90      0.90      0.90     10000\n",
            "\n"
          ]
        }
      ],
      "source": [
        "print('=====DNN-Base Evaluation on scaled dataset=====')\n",
        "print_classification_report(y_test, pred_base_FC_scaled, label_names)"
      ]
    },
    {
      "cell_type": "code",
      "source": [
        "print('=====DNN-Drop-Batch Evaluation on scaled dataset=====')\n",
        "print_classification_report(y_test, pred_dropout_FC_scaled, label_names)"
      ],
      "metadata": {
        "colab": {
          "base_uri": "https://localhost:8080/"
        },
        "id": "1DZACeEseBLw",
        "outputId": "ef78db32-6038-4114-b9ba-d2653cb5b8a0"
      },
      "execution_count": null,
      "outputs": [
        {
          "output_type": "stream",
          "name": "stdout",
          "text": [
            "=====DNN-Drop-Batch Evaluation on scaled dataset=====\n",
            "Confusion matrix\n",
            "[[878   2   9  17   4   0  85   0   5   0]\n",
            " [  0 978   1  14   4   0   2   0   1   0]\n",
            " [ 17   2 828  12  83   1  56   1   0   0]\n",
            " [ 20   8   7 910  28   0  25   0   2   0]\n",
            " [  2   0  69  32 842   1  53   0   1   0]\n",
            " [  0   1   0   0   0 965   0  19   1  14]\n",
            " [119   1  75  20  62   0 717   0   6   0]\n",
            " [  0   0   0   0   0  11   0 966   0  23]\n",
            " [  5   0   4   6   4   1   4   5 971   0]\n",
            " [  0   0   0   0   0   4   1  39   0 956]]\n",
            "\n",
            "              precision    recall  f1-score   support\n",
            "\n",
            " T-shirt/top       0.84      0.88      0.86      1000\n",
            "     Trouser       0.99      0.98      0.98      1000\n",
            "    Pullover       0.83      0.83      0.83      1000\n",
            "       Dress       0.90      0.91      0.91      1000\n",
            "        Coat       0.82      0.84      0.83      1000\n",
            "      Sandal       0.98      0.96      0.97      1000\n",
            "       Shirt       0.76      0.72      0.74      1000\n",
            "     Sneaker       0.94      0.97      0.95      1000\n",
            "         Bag       0.98      0.97      0.98      1000\n",
            "  Ankle boot       0.96      0.96      0.96      1000\n",
            "\n",
            "    accuracy                           0.90     10000\n",
            "   macro avg       0.90      0.90      0.90     10000\n",
            "weighted avg       0.90      0.90      0.90     10000\n",
            "\n"
          ]
        }
      ]
    },
    {
      "cell_type": "markdown",
      "metadata": {
        "id": "61Vc5tNQWt1t"
      },
      "source": [
        "### Compare the learning curves of best_model_base and best-dropout-FC model\n",
        "1. Write a few sentences about your interpretation of the learning curves "
      ]
    },
    {
      "cell_type": "code",
      "execution_count": null,
      "metadata": {
        "id": "_gHcU6cGGOEU",
        "colab": {
          "base_uri": "https://localhost:8080/",
          "height": 1000
        },
        "outputId": "3f60f2f4-96e6-4b8f-d7c8-72d70a971fd4"
      },
      "outputs": [
        {
          "output_type": "display_data",
          "data": {
            "image/png": "[encoded data removed]",
            "text/plain": [
              "<Figure size 432x288 with 1 Axes>"
            ]
          },
          "metadata": {
            "needs_background": "light"
          }
        },
        {
          "output_type": "display_data",
          "data": {
            "image/png": "[encoded data removed]",
            "text/plain": [
              "<Figure size 432x288 with 1 Axes>"
            ]
          },
          "metadata": {
            "needs_background": "light"
          }
        },
        {
          "output_type": "display_data",
          "data": {
            "image/png": "[encoded data removed]",
            "text/plain": [
              "<Figure size 432x288 with 1 Axes>"
            ]
          },
          "metadata": {
            "needs_background": "light"
          }
        },
        {
          "output_type": "display_data",
          "data": {
            "image/png": "[encoded data removed]",
            "text/plain": [
              "<Figure size 432x288 with 1 Axes>"
            ]
          },
          "metadata": {
            "needs_background": "light"
          }
        }
      ],
      "source": [
        "plt.plot(train_history_base_FC.history['accuracy'],label = 'Train - Base FC')\n",
        "plt.plot(train_history_base_FC.history['val_accuracy'],label = 'Validation - Base FC')\n",
        "plt.legend()\n",
        "plt.grid()\n",
        "plt.ylabel('accuracy')\n",
        "plt.xlabel('epoch')\n",
        "plt.show()\n",
        "\n",
        "plt.plot(train_history_base_FC_scaled.history['accuracy'],label = 'Scaled Train - Base FC')\n",
        "plt.plot(train_history_base_FC_scaled.history['val_accuracy'],label = 'Scaled Validation - Base FC')\n",
        "plt.legend()\n",
        "plt.grid()\n",
        "plt.ylabel('accuracy')\n",
        "plt.xlabel('epoch')\n",
        "plt.show()\n",
        "\n",
        "plt.plot(train_history_dropout_FC.history['accuracy'],label = 'Scaled Train - Dropout FC')\n",
        "plt.plot(train_history_dropout_FC.history['val_accuracy'],label = 'Scaled Validation - Dropout FC')\n",
        "plt.legend()\n",
        "plt.grid()\n",
        "plt.ylabel('accuracy')\n",
        "plt.xlabel('epoch')\n",
        "plt.show()\n",
        "\n",
        "plt.plot(train_history_base_FC.history['val_accuracy'],label = 'Base FC - original validation dataset')\n",
        "plt.plot(train_history_base_FC_scaled.history['val_accuracy'],label = 'Base FC - scaled validation dataset')\n",
        "plt.plot(train_history_dropout_FC.history['val_accuracy'],label = 'Dropout FC - scaled validation dataset')\n",
        "plt.legend()\n",
        "plt.grid()\n",
        "plt.ylabel('accuracy')\n",
        "plt.xlabel('epoch')\n",
        "plt.show()\n"
      ]
    },
    {
      "cell_type": "markdown",
      "source": [
        "#### Comments:"
      ],
      "metadata": {
        "id": "_UOENEpbYSfk"
      }
    },
    {
      "cell_type": "code",
      "execution_count": null,
      "metadata": {
        "id": "hsn1bvGCW89O"
      },
      "outputs": [],
      "source": [
        "#comments"
      ]
    },
    {
      "cell_type": "markdown",
      "metadata": {
        "id": "dIZIfarBXR6K"
      },
      "source": [
        "### Prediciton confidence\n",
        "\n",
        "For each instance, the best DNN model outputs class-probabilities \n",
        "1. remove the test instances for which the highest class-probability is lower than .99\n",
        "2. we can say that those are instances for wich the model is not nonfident \n",
        "3. how many test instances are left?\n",
        "4. print a confusion matrix and classification report only for the instances for which the model is confident"
      ]
    },
    {
      "cell_type": "code",
      "source": [
        "cm = confusion_matrix(y_test,pred_dropout_FC_scaled)\n",
        "score_class = cm.diagonal()/cm.sum(axis=1) "
      ],
      "metadata": {
        "id": "MOpQz3o8watA"
      },
      "execution_count": null,
      "outputs": []
    },
    {
      "cell_type": "code",
      "source": [
        "scores = pd.DataFrame()\n",
        "scores['class'] = label_names\n",
        "scores['class score'] = score_class\n",
        "scores "
      ],
      "metadata": {
        "colab": {
          "base_uri": "https://localhost:8080/",
          "height": 363
        },
        "id": "yeY_XX8MYG5W",
        "outputId": "075f2f99-3796-4cc9-944d-28ca2782f5b8"
      },
      "execution_count": null,
      "outputs": [
        {
          "output_type": "execute_result",
          "data": {
            "text/html": [
              "\n",
              "  <div id=\"df-5d723141-a6a8-4233-a6d0-2146e5dc5657\">\n",
              "    <div class=\"colab-df-container\">\n",
              "      <div>\n",
              "<style scoped>\n",
              "    .dataframe tbody tr th:only-of-type {\n",
              "        vertical-align: middle;\n",
              "    }\n",
              "\n",
              "    .dataframe tbody tr th {\n",
              "        vertical-align: top;\n",
              "    }\n",
              "\n",
              "    .dataframe thead th {\n",
              "        text-align: right;\n",
              "    }\n",
              "</style>\n",
              "<table border=\"1\" class=\"dataframe\">\n",
              "  <thead>\n",
              "    <tr style=\"text-align: right;\">\n",
              "      <th></th>\n",
              "      <th>class</th>\n",
              "      <th>class score</th>\n",
              "    </tr>\n",
              "  </thead>\n",
              "  <tbody>\n",
              "    <tr>\n",
              "      <th>0</th>\n",
              "      <td>T-shirt/top</td>\n",
              "      <td>0.878</td>\n",
              "    </tr>\n",
              "    <tr>\n",
              "      <th>1</th>\n",
              "      <td>Trouser</td>\n",
              "      <td>0.978</td>\n",
              "    </tr>\n",
              "    <tr>\n",
              "      <th>2</th>\n",
              "      <td>Pullover</td>\n",
              "      <td>0.828</td>\n",
              "    </tr>\n",
              "    <tr>\n",
              "      <th>3</th>\n",
              "      <td>Dress</td>\n",
              "      <td>0.910</td>\n",
              "    </tr>\n",
              "    <tr>\n",
              "      <th>4</th>\n",
              "      <td>Coat</td>\n",
              "      <td>0.842</td>\n",
              "    </tr>\n",
              "    <tr>\n",
              "      <th>5</th>\n",
              "      <td>Sandal</td>\n",
              "      <td>0.965</td>\n",
              "    </tr>\n",
              "    <tr>\n",
              "      <th>6</th>\n",
              "      <td>Shirt</td>\n",
              "      <td>0.717</td>\n",
              "    </tr>\n",
              "    <tr>\n",
              "      <th>7</th>\n",
              "      <td>Sneaker</td>\n",
              "      <td>0.966</td>\n",
              "    </tr>\n",
              "    <tr>\n",
              "      <th>8</th>\n",
              "      <td>Bag</td>\n",
              "      <td>0.971</td>\n",
              "    </tr>\n",
              "    <tr>\n",
              "      <th>9</th>\n",
              "      <td>Ankle boot</td>\n",
              "      <td>0.956</td>\n",
              "    </tr>\n",
              "  </tbody>\n",
              "</table>\n",
              "</div>\n",
              "      <button class=\"colab-df-convert\" onclick=\"convertToInteractive('df-5d723141-a6a8-4233-a6d0-2146e5dc5657')\"\n",
              "              title=\"Convert this dataframe to an interactive table.\"\n",
              "              style=\"display:none;\">\n",
              "        \n",
              "  <svg xmlns=\"http://www.w3.org/2000/svg\" height=\"24px\"viewBox=\"0 0 24 24\"\n",
              "       width=\"24px\">\n",
              "    <path d=\"M0 0h24v24H0V0z\" fill=\"none\"/>\n",
              "    <path d=\"M18.56 5.44l.94 2.06.94-2.06 2.06-.94-2.06-.94-.94-2.06-.94 2.06-2.06.94zm-11 1L8.5 8.5l.94-2.06 2.06-.94-2.06-.94L8.5 2.5l-.94 2.06-2.06.94zm10 10l.94 2.06.94-2.06 2.06-.94-2.06-.94-.94-2.06-.94 2.06-2.06.94z\"/><path d=\"M17.41 7.96l-1.37-1.37c-.4-.4-.92-.59-1.43-.59-.52 0-1.04.2-1.43.59L10.3 9.45l-7.72 7.72c-.78.78-.78 2.05 0 2.83L4 21.41c.39.39.9.59 1.41.59.51 0 1.02-.2 1.41-.59l7.78-7.78 2.81-2.81c.8-.78.8-2.07 0-2.86zM5.41 20L4 18.59l7.72-7.72 1.47 1.35L5.41 20z\"/>\n",
              "  </svg>\n",
              "      </button>\n",
              "      \n",
              "  <style>\n",
              "    .colab-df-container {\n",
              "      display:flex;\n",
              "      flex-wrap:wrap;\n",
              "      gap: 12px;\n",
              "    }\n",
              "\n",
              "    .colab-df-convert {\n",
              "      background-color: #E8F0FE;\n",
              "      border: none;\n",
              "      border-radius: 50%;\n",
              "      cursor: pointer;\n",
              "      display: none;\n",
              "      fill: #1967D2;\n",
              "      height: 32px;\n",
              "      padding: 0 0 0 0;\n",
              "      width: 32px;\n",
              "    }\n",
              "\n",
              "    .colab-df-convert:hover {\n",
              "      background-color: #E2EBFA;\n",
              "      box-shadow: 0px 1px 2px rgba(60, 64, 67, 0.3), 0px 1px 3px 1px rgba(60, 64, 67, 0.15);\n",
              "      fill: #174EA6;\n",
              "    }\n",
              "\n",
              "    [theme=dark] .colab-df-convert {\n",
              "      background-color: #3B4455;\n",
              "      fill: #D2E3FC;\n",
              "    }\n",
              "\n",
              "    [theme=dark] .colab-df-convert:hover {\n",
              "      background-color: #434B5C;\n",
              "      box-shadow: 0px 1px 3px 1px rgba(0, 0, 0, 0.15);\n",
              "      filter: drop-shadow(0px 1px 2px rgba(0, 0, 0, 0.3));\n",
              "      fill: #FFFFFF;\n",
              "    }\n",
              "  </style>\n",
              "\n",
              "      <script>\n",
              "        const buttonEl =\n",
              "          document.querySelector('#df-5d723141-a6a8-4233-a6d0-2146e5dc5657 button.colab-df-convert');\n",
              "        buttonEl.style.display =\n",
              "          google.colab.kernel.accessAllowed ? 'block' : 'none';\n",
              "\n",
              "        async function convertToInteractive(key) {\n",
              "          const element = document.querySelector('#df-5d723141-a6a8-4233-a6d0-2146e5dc5657');\n",
              "          const dataTable =\n",
              "            await google.colab.kernel.invokeFunction('convertToInteractive',\n",
              "                                                     [key], {});\n",
              "          if (!dataTable) return;\n",
              "\n",
              "          const docLinkHtml = 'Like what you see? Visit the ' +\n",
              "            '<a target=\"_blank\" href=https://colab.research.google.com/notebooks/data_table.ipynb>data table notebook</a>'\n",
              "            + ' to learn more about interactive tables.';\n",
              "          element.innerHTML = '';\n",
              "          dataTable['output_type'] = 'display_data';\n",
              "          await google.colab.output.renderOutput(dataTable, element);\n",
              "          const docLink = document.createElement('div');\n",
              "          docLink.innerHTML = docLinkHtml;\n",
              "          element.appendChild(docLink);\n",
              "        }\n",
              "      </script>\n",
              "    </div>\n",
              "  </div>\n",
              "  "
            ],
            "text/plain": [
              "         class  class score\n",
              "0  T-shirt/top        0.878\n",
              "1      Trouser        0.978\n",
              "2     Pullover        0.828\n",
              "3        Dress        0.910\n",
              "4         Coat        0.842\n",
              "5       Sandal        0.965\n",
              "6        Shirt        0.717\n",
              "7      Sneaker        0.966\n",
              "8          Bag        0.971\n",
              "9   Ankle boot        0.956"
            ]
          },
          "metadata": {},
          "execution_count": 66
        }
      ]
    },
    {
      "cell_type": "markdown",
      "source": [
        "#### Comments:\n",
        "* There is no class with confidence level higher than 0.99.\n",
        "* The class with highest confidence level is 'Trouser'"
      ],
      "metadata": {
        "id": "YGArv8OdYWT7"
      }
    },
    {
      "cell_type": "code",
      "source": [
        "# Filter dataset and select only 'Trouser' instances\n",
        "train_filter = np.where((y_train == 0 ) | (y_train == 'Trouser'))\n",
        "test_filter = np.where((y_test == 0) | (y_test == 'Trouser'))\n",
        "\n",
        "X_train_99, y_train_99 = X_train_scaled[train_filter], y_train[train_filter]\n",
        "X_test_99, y_test_99 = X_test_scaled[test_filter], y_test[test_filter]"
      ],
      "metadata": {
        "colab": {
          "base_uri": "https://localhost:8080/"
        },
        "id": "hO3VgiuCSlZt",
        "outputId": "00fd3bdd-4525-4de7-829f-36bb6ba772a1"
      },
      "execution_count": null,
      "outputs": [
        {
          "output_type": "stream",
          "name": "stderr",
          "text": [
            "/usr/local/lib/python3.7/dist-packages/ipykernel_launcher.py:1: FutureWarning: elementwise comparison failed; returning scalar instead, but in the future will perform elementwise comparison\n",
            "  \"\"\"Entry point for launching an IPython kernel.\n",
            "/usr/local/lib/python3.7/dist-packages/ipykernel_launcher.py:2: FutureWarning: elementwise comparison failed; returning scalar instead, but in the future will perform elementwise comparison\n",
            "  \n"
          ]
        }
      ]
    },
    {
      "cell_type": "code",
      "source": [
        "#Confussion matrix and classification report for the filtered dataset\n",
        "pred_base_FC_scaled_99 = m_base_FC_scaled.predict(X_test_99)\n",
        "pred_base_FC_scaled_99 = np.argmax(pred_base_FC_scaled_99, axis=1)\n",
        "\n",
        "print('=====DNN-Base Evaluation on scaled dataset for the instances for which the model is confident=====')\n",
        "cm_99 = confusion_matrix(y_test_99,pred_base_FC_scaled_99)\n",
        "print('Confusion matrix')\n",
        "print(cm_99[0])\n",
        "\n",
        "cr_99 = classification_report(y_test_99,pred_base_FC_scaled_99,target_names = 'Trouser', zero_division=0)\n",
        "print('Classification Report')\n",
        "print(cm_99)"
      ],
      "metadata": {
        "colab": {
          "base_uri": "https://localhost:8080/"
        },
        "id": "9rMnNTxHV-hG",
        "outputId": "2e119e64-2e6c-47c0-c43f-bfe38755f01b"
      },
      "execution_count": null,
      "outputs": [
        {
          "output_type": "stream",
          "name": "stdout",
          "text": [
            "=====DNN-Base Evaluation on scaled dataset for the instances for which the model is confident=====\n",
            "Confusion matrix\n",
            "[884   8  18   4   2  80   4]\n",
            "Classification Report\n",
            "[[884   8  18   4   2  80   4]\n",
            " [  0   0   0   0   0   0   0]\n",
            " [  0   0   0   0   0   0   0]\n",
            " [  0   0   0   0   0   0   0]\n",
            " [  0   0   0   0   0   0   0]\n",
            " [  0   0   0   0   0   0   0]\n",
            " [  0   0   0   0   0   0   0]]\n"
          ]
        }
      ]
    },
    {
      "cell_type": "code",
      "source": [
        "#Confussion matrix and classification report for the filtered dataset\n",
        "pred_dropout_FC_scaled_99 = m_dropout_FC_scaled.predict(X_test_99)\n",
        "pred_dropout_FC_scaled_99 = np.argmax(pred_dropout_FC_scaled_99, axis=1)\n",
        "\n",
        "print('=====DNN-Drop-Batch Evaluation on scaled dataset for the instances for which the model is confident=====')\n",
        "cm_99 = confusion_matrix(y_test_99,pred_dropout_FC_scaled_99)\n",
        "print('Confusion matrix')\n",
        "print(cm_99[0])\n",
        "\n",
        "cr_99 = classification_report(y_test_99,pred_dropout_FC_scaled_99,target_names = 'Trouser', zero_division=0)\n",
        "print('Classification Report')\n",
        "print(cm_99)"
      ],
      "metadata": {
        "colab": {
          "base_uri": "https://localhost:8080/"
        },
        "id": "S52oMdt3XIae",
        "outputId": "958881bf-b0b9-4bd7-f3f9-ec3afabc1e18"
      },
      "execution_count": null,
      "outputs": [
        {
          "output_type": "stream",
          "name": "stdout",
          "text": [
            "=====DNN-Drop-Batch Evaluation on scaled dataset for the instances for which the model is confident=====\n",
            "Confusion matrix\n",
            "[878   2   9  17   4  85   5]\n",
            "Classification Report\n",
            "[[878   2   9  17   4  85   5]\n",
            " [  0   0   0   0   0   0   0]\n",
            " [  0   0   0   0   0   0   0]\n",
            " [  0   0   0   0   0   0   0]\n",
            " [  0   0   0   0   0   0   0]\n",
            " [  0   0   0   0   0   0   0]\n",
            " [  0   0   0   0   0   0   0]]\n"
          ]
        }
      ]
    },
    {
      "cell_type": "code",
      "source": [
        "print(pred_dropout_FC_scaled_99.shape)\n",
        "print(y_test_99.shape)"
      ],
      "metadata": {
        "colab": {
          "base_uri": "https://localhost:8080/"
        },
        "id": "kJssQ1EnTtoF",
        "outputId": "bf857b5d-b87d-430b-ad0f-44281e5feae1"
      },
      "execution_count": null,
      "outputs": [
        {
          "output_type": "stream",
          "name": "stdout",
          "text": [
            "(1000,)\n",
            "(1000,)\n"
          ]
        }
      ]
    },
    {
      "cell_type": "markdown",
      "metadata": {
        "id": "yyQ53cq0W-rD"
      },
      "source": [
        "## Best model\n",
        "\n",
        "Try to create improved  model by changing some of the parameters of your best model\n",
        "1. e.g., add batchnormzalization\n",
        "2. increase/decrease dropupt\n",
        "3. change learning rate\n",
        "4. change the optimizer"
      ]
    },
    {
      "cell_type": "code",
      "source": [
        "def improved_FC_Drop_Batch_model(input_shape, num_cells, output_shape ):\n",
        "  drop_rate = .1\n",
        "\n",
        "  _input = Input(input_shape)\n",
        "\n",
        "  layer = BatchNormalization()(_input)\n",
        "\n",
        "  layer =  Dense(num_cells, activation= 'relu')(layer)\n",
        "  layer = BatchNormalization()(layer)\n",
        "  layer = Dropout(drop_rate)(layer)\n",
        "\n",
        "  layer =  Dense(num_cells//2, activation= 'relu')(layer)\n",
        "  layer = BatchNormalization()(layer)\n",
        "  layer = Dropout(drop_rate)(layer)\n",
        "\n",
        "  layer =  Dense(num_cells//4, activation= 'relu')(layer)\n",
        "  layer = BatchNormalization()(layer)\n",
        "  layer = Dropout(drop_rate)(layer)\n",
        "\n",
        "  _output = Dense(output_shape, activation='sigmoid')(layer)\n",
        "  my_model = Model(inputs=[_input], outputs=[_output])\n",
        "  my_model.compile(loss='sparse_categorical_crossentropy', optimizer='RMSprop', metrics=['accuracy'])\n",
        "\n",
        "  return my_model"
      ],
      "metadata": {
        "id": "uN2HCWn_aHyi"
      },
      "execution_count": null,
      "outputs": []
    },
    {
      "cell_type": "code",
      "source": [
        "# model and print model summary\n",
        "input_shape= (X_train_scaled.shape[1])\n",
        "num_cells= 1024\n",
        "output_shape= len(np.unique(y_test)) \n",
        "\n",
        "improved_drop_bn = improved_FC_Drop_Batch_model(input_shape,num_cells,output_shape)\n",
        "improved_drop_summary = improved_drop_bn.summary()\n",
        "print(improved_drop_summary)"
      ],
      "metadata": {
        "colab": {
          "base_uri": "https://localhost:8080/"
        },
        "id": "nVnUlRAiamyk",
        "outputId": "76690802-bf27-4c6b-dbfe-323ea7bc3aae"
      },
      "execution_count": null,
      "outputs": [
        {
          "output_type": "stream",
          "name": "stdout",
          "text": [
            "Model: \"model_8\"\n",
            "_________________________________________________________________\n",
            " Layer (type)                Output Shape              Param #   \n",
            "=================================================================\n",
            " input_9 (InputLayer)        [(None, 784)]             0         \n",
            "                                                                 \n",
            " batch_normalization_24 (Bat  (None, 784)              3136      \n",
            " chNormalization)                                                \n",
            "                                                                 \n",
            " dense_32 (Dense)            (None, 1024)              803840    \n",
            "                                                                 \n",
            " batch_normalization_25 (Bat  (None, 1024)             4096      \n",
            " chNormalization)                                                \n",
            "                                                                 \n",
            " dropout_18 (Dropout)        (None, 1024)              0         \n",
            "                                                                 \n",
            " dense_33 (Dense)            (None, 512)               524800    \n",
            "                                                                 \n",
            " batch_normalization_26 (Bat  (None, 512)              2048      \n",
            " chNormalization)                                                \n",
            "                                                                 \n",
            " dropout_19 (Dropout)        (None, 512)               0         \n",
            "                                                                 \n",
            " dense_34 (Dense)            (None, 256)               131328    \n",
            "                                                                 \n",
            " batch_normalization_27 (Bat  (None, 256)              1024      \n",
            " chNormalization)                                                \n",
            "                                                                 \n",
            " dropout_20 (Dropout)        (None, 256)               0         \n",
            "                                                                 \n",
            " dense_35 (Dense)            (None, 10)                2570      \n",
            "                                                                 \n",
            "=================================================================\n",
            "Total params: 1,472,842\n",
            "Trainable params: 1,467,690\n",
            "Non-trainable params: 5,152\n",
            "_________________________________________________________________\n",
            "None\n"
          ]
        }
      ]
    },
    {
      "cell_type": "code",
      "source": [
        "# train dropout_FC model on scaled dataset\n",
        "path = 'best_improved_dropout_FC.pt' \n",
        "callback1 = ModelCheckpoint(path, \n",
        "                            monitor='val_accuracy',\n",
        "                            save_best_only=True, \n",
        "                            mode='max', \n",
        "                            verbose=1)\n",
        "\n",
        "callaback2 = EarlyStopping(patience=10)\n",
        "callback_list = [callback1, callaback2]\n",
        "\n",
        "train_history_improved_dropout_FC = improved_drop_bn.fit(X_train_scaled, y_train, \n",
        "                                    epochs=50, \n",
        "                                    callbacks=callback_list, \n",
        "                                    validation_data=(X_test_scaled, y_test), \n",
        "                                    batch_size=1000)"
      ],
      "metadata": {
        "colab": {
          "base_uri": "https://localhost:8080/"
        },
        "id": "E5jtkPItZtd-",
        "outputId": "60f275df-b399-4304-8513-9887ddd6ce99"
      },
      "execution_count": null,
      "outputs": [
        {
          "output_type": "stream",
          "name": "stdout",
          "text": [
            "Epoch 1/50\n",
            "60/60 [==============================] - ETA: 0s - loss: 0.6005 - accuracy: 0.7974\n",
            "Epoch 00001: val_accuracy improved from -inf to 0.72630, saving model to best_improved_dropout_FC.pt\n",
            "INFO:tensorflow:Assets written to: best_improved_dropout_FC.pt/assets\n",
            "60/60 [==============================] - 18s 273ms/step - loss: 0.6005 - accuracy: 0.7974 - val_loss: 0.9891 - val_accuracy: 0.7263\n",
            "Epoch 2/50\n",
            "60/60 [==============================] - ETA: 0s - loss: 0.3761 - accuracy: 0.8617\n",
            "Epoch 00002: val_accuracy improved from 0.72630 to 0.73690, saving model to best_improved_dropout_FC.pt\n",
            "INFO:tensorflow:Assets written to: best_improved_dropout_FC.pt/assets\n",
            "60/60 [==============================] - 16s 275ms/step - loss: 0.3761 - accuracy: 0.8617 - val_loss: 0.7288 - val_accuracy: 0.7369\n",
            "Epoch 3/50\n",
            "60/60 [==============================] - ETA: 0s - loss: 0.3193 - accuracy: 0.8801\n",
            "Epoch 00003: val_accuracy improved from 0.73690 to 0.79540, saving model to best_improved_dropout_FC.pt\n",
            "INFO:tensorflow:Assets written to: best_improved_dropout_FC.pt/assets\n",
            "60/60 [==============================] - 16s 270ms/step - loss: 0.3193 - accuracy: 0.8801 - val_loss: 0.5605 - val_accuracy: 0.7954\n",
            "Epoch 4/50\n",
            "60/60 [==============================] - ETA: 0s - loss: 0.2872 - accuracy: 0.8928\n",
            "Epoch 00004: val_accuracy improved from 0.79540 to 0.84750, saving model to best_improved_dropout_FC.pt\n",
            "INFO:tensorflow:Assets written to: best_improved_dropout_FC.pt/assets\n",
            "60/60 [==============================] - 16s 269ms/step - loss: 0.2872 - accuracy: 0.8928 - val_loss: 0.4134 - val_accuracy: 0.8475\n",
            "Epoch 5/50\n",
            "60/60 [==============================] - ETA: 0s - loss: 0.2545 - accuracy: 0.9040\n",
            "Epoch 00005: val_accuracy improved from 0.84750 to 0.86410, saving model to best_improved_dropout_FC.pt\n",
            "INFO:tensorflow:Assets written to: best_improved_dropout_FC.pt/assets\n",
            "60/60 [==============================] - 16s 267ms/step - loss: 0.2545 - accuracy: 0.9040 - val_loss: 0.3808 - val_accuracy: 0.8641\n",
            "Epoch 6/50\n",
            "60/60 [==============================] - ETA: 0s - loss: 0.2316 - accuracy: 0.9122\n",
            "Epoch 00006: val_accuracy did not improve from 0.86410\n",
            "60/60 [==============================] - 14s 226ms/step - loss: 0.2316 - accuracy: 0.9122 - val_loss: 0.3801 - val_accuracy: 0.8592\n",
            "Epoch 7/50\n",
            "60/60 [==============================] - ETA: 0s - loss: 0.2178 - accuracy: 0.9173\n",
            "Epoch 00007: val_accuracy improved from 0.86410 to 0.87770, saving model to best_improved_dropout_FC.pt\n",
            "INFO:tensorflow:Assets written to: best_improved_dropout_FC.pt/assets\n",
            "60/60 [==============================] - 16s 267ms/step - loss: 0.2178 - accuracy: 0.9173 - val_loss: 0.3404 - val_accuracy: 0.8777\n",
            "Epoch 8/50\n",
            "60/60 [==============================] - ETA: 0s - loss: 0.1965 - accuracy: 0.9258\n",
            "Epoch 00008: val_accuracy improved from 0.87770 to 0.87790, saving model to best_improved_dropout_FC.pt\n",
            "INFO:tensorflow:Assets written to: best_improved_dropout_FC.pt/assets\n",
            "60/60 [==============================] - 16s 275ms/step - loss: 0.1965 - accuracy: 0.9258 - val_loss: 0.3482 - val_accuracy: 0.8779\n",
            "Epoch 9/50\n",
            "60/60 [==============================] - ETA: 0s - loss: 0.1820 - accuracy: 0.9308\n",
            "Epoch 00009: val_accuracy improved from 0.87790 to 0.89020, saving model to best_improved_dropout_FC.pt\n",
            "INFO:tensorflow:Assets written to: best_improved_dropout_FC.pt/assets\n",
            "60/60 [==============================] - 16s 268ms/step - loss: 0.1820 - accuracy: 0.9308 - val_loss: 0.3192 - val_accuracy: 0.8902\n",
            "Epoch 10/50\n",
            "60/60 [==============================] - ETA: 0s - loss: 0.1653 - accuracy: 0.9377\n",
            "Epoch 00010: val_accuracy did not improve from 0.89020\n",
            "60/60 [==============================] - 14s 227ms/step - loss: 0.1653 - accuracy: 0.9377 - val_loss: 0.3661 - val_accuracy: 0.8771\n",
            "Epoch 11/50\n",
            "60/60 [==============================] - ETA: 0s - loss: 0.1558 - accuracy: 0.9404\n",
            "Epoch 00011: val_accuracy improved from 0.89020 to 0.89070, saving model to best_improved_dropout_FC.pt\n",
            "INFO:tensorflow:Assets written to: best_improved_dropout_FC.pt/assets\n",
            "60/60 [==============================] - 16s 269ms/step - loss: 0.1558 - accuracy: 0.9404 - val_loss: 0.3367 - val_accuracy: 0.8907\n",
            "Epoch 12/50\n",
            "60/60 [==============================] - ETA: 0s - loss: 0.1426 - accuracy: 0.9464\n",
            "Epoch 00012: val_accuracy improved from 0.89070 to 0.89300, saving model to best_improved_dropout_FC.pt\n",
            "INFO:tensorflow:Assets written to: best_improved_dropout_FC.pt/assets\n",
            "60/60 [==============================] - 16s 268ms/step - loss: 0.1426 - accuracy: 0.9464 - val_loss: 0.3299 - val_accuracy: 0.8930\n",
            "Epoch 13/50\n",
            "60/60 [==============================] - ETA: 0s - loss: 0.1312 - accuracy: 0.9517\n",
            "Epoch 00013: val_accuracy improved from 0.89300 to 0.89610, saving model to best_improved_dropout_FC.pt\n",
            "INFO:tensorflow:Assets written to: best_improved_dropout_FC.pt/assets\n",
            "60/60 [==============================] - 17s 276ms/step - loss: 0.1312 - accuracy: 0.9517 - val_loss: 0.3278 - val_accuracy: 0.8961\n",
            "Epoch 14/50\n",
            "60/60 [==============================] - ETA: 0s - loss: 0.1225 - accuracy: 0.9533\n",
            "Epoch 00014: val_accuracy did not improve from 0.89610\n",
            "60/60 [==============================] - 14s 226ms/step - loss: 0.1225 - accuracy: 0.9533 - val_loss: 0.3721 - val_accuracy: 0.8914\n",
            "Epoch 15/50\n",
            "60/60 [==============================] - ETA: 0s - loss: 0.1116 - accuracy: 0.9579\n",
            "Epoch 00015: val_accuracy improved from 0.89610 to 0.89720, saving model to best_improved_dropout_FC.pt\n",
            "INFO:tensorflow:Assets written to: best_improved_dropout_FC.pt/assets\n",
            "60/60 [==============================] - 16s 267ms/step - loss: 0.1116 - accuracy: 0.9579 - val_loss: 0.3514 - val_accuracy: 0.8972\n",
            "Epoch 16/50\n",
            "60/60 [==============================] - ETA: 0s - loss: 0.1035 - accuracy: 0.9617\n",
            "Epoch 00016: val_accuracy did not improve from 0.89720\n",
            "60/60 [==============================] - 14s 226ms/step - loss: 0.1035 - accuracy: 0.9617 - val_loss: 0.3836 - val_accuracy: 0.8855\n",
            "Epoch 17/50\n",
            "60/60 [==============================] - ETA: 0s - loss: 0.0965 - accuracy: 0.9633\n",
            "Epoch 00017: val_accuracy did not improve from 0.89720\n",
            "60/60 [==============================] - 14s 228ms/step - loss: 0.0965 - accuracy: 0.9633 - val_loss: 0.3799 - val_accuracy: 0.8904\n",
            "Epoch 18/50\n",
            "60/60 [==============================] - ETA: 0s - loss: 0.0895 - accuracy: 0.9662\n",
            "Epoch 00018: val_accuracy did not improve from 0.89720\n",
            "60/60 [==============================] - 14s 226ms/step - loss: 0.0895 - accuracy: 0.9662 - val_loss: 0.3882 - val_accuracy: 0.8961\n",
            "Epoch 19/50\n",
            "60/60 [==============================] - ETA: 0s - loss: 0.0841 - accuracy: 0.9680\n",
            "Epoch 00019: val_accuracy did not improve from 0.89720\n",
            "60/60 [==============================] - 14s 226ms/step - loss: 0.0841 - accuracy: 0.9680 - val_loss: 0.4206 - val_accuracy: 0.8891\n"
          ]
        }
      ]
    },
    {
      "cell_type": "code",
      "execution_count": null,
      "metadata": {
        "id": "56hqfFjtHASu"
      },
      "outputs": [],
      "source": [
        "#load  best_improved_dropout_FC.pt and use it on the test data\n",
        "m_improved_dropout_FC_scaled = load_model('/content/best_improved_dropout_FC.pt')\n",
        "pred_improved_dropout_FC_scaled = m_improved_dropout_FC_scaled.predict(X_test_scaled)\n",
        "pred_improved_dropout_FC_scaled = np.argmax(pred_improved_dropout_FC_scaled, axis=1)"
      ]
    },
    {
      "cell_type": "code",
      "source": [
        "print('=====Improved DNN-Drop-Batch Evaluation on scaled dataset=====')\n",
        "print_classification_report(y_test, pred_improved_dropout_FC_scaled, label_names)"
      ],
      "metadata": {
        "colab": {
          "base_uri": "https://localhost:8080/"
        },
        "id": "PdwH5e8wc8MV",
        "outputId": "4a10a79f-141a-42a0-fd1a-eb95931e61bd"
      },
      "execution_count": null,
      "outputs": [
        {
          "output_type": "stream",
          "name": "stdout",
          "text": [
            "=====Improved DNN-Drop-Batch Evaluation on scaled dataset=====\n",
            "Confusion matrix\n",
            "[[843   0  19  25   7   1  99   0   6   0]\n",
            " [  0 983   1  10   4   0   1   0   1   0]\n",
            " [ 12   0 814   7  97   0  69   1   0   0]\n",
            " [ 12   6  17 892  37   1  30   0   5   0]\n",
            " [  0   0  59  19 875   1  45   0   1   0]\n",
            " [  0   0   0   0   0 966   0  14   1  19]\n",
            " [103   2  65  24  71   1 727   0   7   0]\n",
            " [  0   0   0   0   0  25   0 923   0  52]\n",
            " [  2   0   4   7   4   3   2   3 975   0]\n",
            " [  0   0   0   0   0   6   1  20   0 973]]\n",
            "\n",
            "              precision    recall  f1-score   support\n",
            "\n",
            " T-shirt/top       0.87      0.84      0.85      1000\n",
            "     Trouser       0.99      0.98      0.99      1000\n",
            "    Pullover       0.83      0.81      0.82      1000\n",
            "       Dress       0.91      0.89      0.90      1000\n",
            "        Coat       0.80      0.88      0.84      1000\n",
            "      Sandal       0.96      0.97      0.96      1000\n",
            "       Shirt       0.75      0.73      0.74      1000\n",
            "     Sneaker       0.96      0.92      0.94      1000\n",
            "         Bag       0.98      0.97      0.98      1000\n",
            "  Ankle boot       0.93      0.97      0.95      1000\n",
            "\n",
            "    accuracy                           0.90     10000\n",
            "   macro avg       0.90      0.90      0.90     10000\n",
            "weighted avg       0.90      0.90      0.90     10000\n",
            "\n"
          ]
        }
      ]
    },
    {
      "cell_type": "code",
      "source": [
        "# Accuracy vizualization\n",
        "plt.plot(train_history_improved_dropout_FC.history['accuracy'],label = 'Scaled Train - Improved Dropout FC')\n",
        "plt.plot(train_history_improved_dropout_FC.history['val_accuracy'],label = 'Scaled Validation - Improved Dropout FC')\n",
        "plt.legend()\n",
        "plt.grid()\n",
        "plt.ylabel('accuracy')\n",
        "plt.xlabel('epoch')\n",
        "plt.show()\n",
        "\n",
        "plt.plot(train_history_base_FC.history['val_accuracy'],label = 'Base FC - original validation dataset')\n",
        "plt.plot(train_history_base_FC_scaled.history['val_accuracy'],label = 'Base FC - scaled validation dataset')\n",
        "plt.plot(train_history_dropout_FC.history['val_accuracy'],label = 'Dropout FC - scaled validation dataset')\n",
        "plt.plot(train_history_improved_dropout_FC.history['val_accuracy'],label = 'Improved Dropout FC - scaled validation dataset')\n",
        "plt.legend()\n",
        "plt.grid()\n",
        "plt.ylabel('accuracy')\n",
        "plt.xlabel('epoch')\n",
        "plt.show()\n"
      ],
      "metadata": {
        "colab": {
          "base_uri": "https://localhost:8080/",
          "height": 541
        },
        "id": "1abVBIhLdXSG",
        "outputId": "8daa4181-d28a-42ab-c89d-44e41526863f"
      },
      "execution_count": null,
      "outputs": [
        {
          "output_type": "display_data",
          "data": {
            "image/png": "[encoded data removed]",
            "text/plain": [
              "<Figure size 432x288 with 1 Axes>"
            ]
          },
          "metadata": {
            "needs_background": "light"
          }
        },
        {
          "output_type": "display_data",
          "data": {
            "image/png": "[encoded data removed]",
            "text/plain": [
              "<Figure size 432x288 with 1 Axes>"
            ]
          },
          "metadata": {
            "needs_background": "light"
          }
        }
      ]
    },
    {
      "cell_type": "code",
      "source": [
        ""
      ],
      "metadata": {
        "id": "jZonkGolosHE"
      },
      "execution_count": null,
      "outputs": []
    },
    {
      "cell_type": "code",
      "source": [
        ""
      ],
      "metadata": {
        "id": "XWwVfTD0ouxW"
      },
      "execution_count": null,
      "outputs": []
    },
    {
      "cell_type": "code",
      "source": [
        "def improved_FC_Drop_Batch_model2(input_shape, num_cells, output_shape ):\n",
        "  drop_rate = .5\n",
        "\n",
        "  _input = Input(input_shape)\n",
        "\n",
        "  layer = BatchNormalization()(_input)\n",
        "\n",
        "  layer =  Dense(num_cells, activation= 'relu')(layer)\n",
        "  layer = BatchNormalization()(layer)\n",
        "  layer = Dropout(drop_rate)(layer)\n",
        "\n",
        "  layer =  Dense(num_cells//2, activation= 'relu')(layer)\n",
        "  layer = BatchNormalization()(layer)\n",
        "  layer = Dropout(drop_rate)(layer)\n",
        "\n",
        "  layer =  Dense(num_cells//4, activation= 'relu')(layer)\n",
        "  layer = BatchNormalization()(layer)\n",
        "  layer = Dropout(drop_rate)(layer)\n",
        "\n",
        "  _output = Dense(output_shape, activation='sigmoid')(layer)\n",
        "  my_model = Model(inputs=[_input], outputs=[_output])\n",
        "  my_model.compile(loss='sparse_categorical_crossentropy', optimizer='RMSprop', metrics=['accuracy'])\n",
        "\n",
        "  return my_model"
      ],
      "metadata": {
        "id": "rX7S6a7bosrZ"
      },
      "execution_count": null,
      "outputs": []
    },
    {
      "cell_type": "code",
      "source": [
        "# model and print model summary\n",
        "input_shape= (X_train_scaled.shape[1])\n",
        "num_cells= 1024\n",
        "output_shape= len(np.unique(y_test)) \n",
        "\n",
        "improved2_drop_bn = improved_FC_Drop_Batch_model2(input_shape,num_cells,output_shape)\n",
        "improved2_drop_summary = improved2_drop_bn.summary()\n",
        "print(improved2_drop_summary)"
      ],
      "metadata": {
        "colab": {
          "base_uri": "https://localhost:8080/"
        },
        "outputId": "06ffd516-d291-47f2-9d22-069df6d6651d",
        "id": "smsP0EYoosra"
      },
      "execution_count": null,
      "outputs": [
        {
          "output_type": "stream",
          "name": "stdout",
          "text": [
            "Model: \"model_7\"\n",
            "_________________________________________________________________\n",
            " Layer (type)                Output Shape              Param #   \n",
            "=================================================================\n",
            " input_8 (InputLayer)        [(None, 784)]             0         \n",
            "                                                                 \n",
            " batch_normalization_20 (Bat  (None, 784)              3136      \n",
            " chNormalization)                                                \n",
            "                                                                 \n",
            " dense_28 (Dense)            (None, 1024)              803840    \n",
            "                                                                 \n",
            " batch_normalization_21 (Bat  (None, 1024)             4096      \n",
            " chNormalization)                                                \n",
            "                                                                 \n",
            " dropout_15 (Dropout)        (None, 1024)              0         \n",
            "                                                                 \n",
            " dense_29 (Dense)            (None, 512)               524800    \n",
            "                                                                 \n",
            " batch_normalization_22 (Bat  (None, 512)              2048      \n",
            " chNormalization)                                                \n",
            "                                                                 \n",
            " dropout_16 (Dropout)        (None, 512)               0         \n",
            "                                                                 \n",
            " dense_30 (Dense)            (None, 256)               131328    \n",
            "                                                                 \n",
            " batch_normalization_23 (Bat  (None, 256)              1024      \n",
            " chNormalization)                                                \n",
            "                                                                 \n",
            " dropout_17 (Dropout)        (None, 256)               0         \n",
            "                                                                 \n",
            " dense_31 (Dense)            (None, 10)                2570      \n",
            "                                                                 \n",
            "=================================================================\n",
            "Total params: 1,472,842\n",
            "Trainable params: 1,467,690\n",
            "Non-trainable params: 5,152\n",
            "_________________________________________________________________\n",
            "None\n"
          ]
        }
      ]
    },
    {
      "cell_type": "code",
      "source": [
        "# train dropout_FC model on scaled dataset\n",
        "path = 'best_improved2_dropout_FC.pt' \n",
        "callback1 = ModelCheckpoint(path, \n",
        "                            monitor='val_accuracy',\n",
        "                            save_best_only=True, \n",
        "                            mode='max', \n",
        "                            verbose=1)\n",
        "\n",
        "callaback2 = EarlyStopping(patience=10)\n",
        "callback_list = [callback1, callaback2]\n",
        "\n",
        "train_history_improved2_dropout_FC = improved2_drop_bn.fit(X_train_scaled, y_train, \n",
        "                                    epochs=50, \n",
        "                                    callbacks=callback_list, \n",
        "                                    validation_data=(X_test_scaled, y_test), \n",
        "                                    batch_size=1000)"
      ],
      "metadata": {
        "colab": {
          "base_uri": "https://localhost:8080/"
        },
        "outputId": "a481fcc3-2131-464c-923c-628c74d41532",
        "id": "h6K34Q6cosrb"
      },
      "execution_count": null,
      "outputs": [
        {
          "output_type": "stream",
          "name": "stdout",
          "text": [
            "Epoch 1/50\n",
            "60/60 [==============================] - ETA: 0s - loss: 0.7455 - accuracy: 0.7535\n",
            "Epoch 00001: val_accuracy improved from -inf to 0.74080, saving model to best_improved2_dropout_FC.pt\n",
            "INFO:tensorflow:Assets written to: best_improved2_dropout_FC.pt/assets\n",
            "60/60 [==============================] - 19s 296ms/step - loss: 0.7455 - accuracy: 0.7535 - val_loss: 0.8282 - val_accuracy: 0.7408\n",
            "Epoch 2/50\n",
            "60/60 [==============================] - ETA: 0s - loss: 0.4912 - accuracy: 0.8225\n",
            "Epoch 00002: val_accuracy improved from 0.74080 to 0.75780, saving model to best_improved2_dropout_FC.pt\n",
            "INFO:tensorflow:Assets written to: best_improved2_dropout_FC.pt/assets\n",
            "60/60 [==============================] - 16s 271ms/step - loss: 0.4912 - accuracy: 0.8225 - val_loss: 0.6292 - val_accuracy: 0.7578\n",
            "Epoch 3/50\n",
            "60/60 [==============================] - ETA: 0s - loss: 0.4295 - accuracy: 0.8463\n",
            "Epoch 00003: val_accuracy improved from 0.75780 to 0.81690, saving model to best_improved2_dropout_FC.pt\n",
            "INFO:tensorflow:Assets written to: best_improved2_dropout_FC.pt/assets\n",
            "60/60 [==============================] - 18s 303ms/step - loss: 0.4295 - accuracy: 0.8463 - val_loss: 0.4922 - val_accuracy: 0.8169\n",
            "Epoch 4/50\n",
            "60/60 [==============================] - ETA: 0s - loss: 0.3908 - accuracy: 0.8582\n",
            "Epoch 00004: val_accuracy improved from 0.81690 to 0.83370, saving model to best_improved2_dropout_FC.pt\n",
            "INFO:tensorflow:Assets written to: best_improved2_dropout_FC.pt/assets\n",
            "60/60 [==============================] - 16s 270ms/step - loss: 0.3908 - accuracy: 0.8582 - val_loss: 0.4519 - val_accuracy: 0.8337\n",
            "Epoch 5/50\n",
            "60/60 [==============================] - ETA: 0s - loss: 0.3648 - accuracy: 0.8665\n",
            "Epoch 00005: val_accuracy improved from 0.83370 to 0.86520, saving model to best_improved2_dropout_FC.pt\n",
            "INFO:tensorflow:Assets written to: best_improved2_dropout_FC.pt/assets\n",
            "60/60 [==============================] - 17s 279ms/step - loss: 0.3648 - accuracy: 0.8665 - val_loss: 0.3719 - val_accuracy: 0.8652\n",
            "Epoch 6/50\n",
            "60/60 [==============================] - ETA: 0s - loss: 0.3436 - accuracy: 0.8741\n",
            "Epoch 00006: val_accuracy improved from 0.86520 to 0.86670, saving model to best_improved2_dropout_FC.pt\n",
            "INFO:tensorflow:Assets written to: best_improved2_dropout_FC.pt/assets\n",
            "60/60 [==============================] - 16s 271ms/step - loss: 0.3436 - accuracy: 0.8741 - val_loss: 0.3618 - val_accuracy: 0.8667\n",
            "Epoch 7/50\n",
            "60/60 [==============================] - ETA: 0s - loss: 0.3244 - accuracy: 0.8821\n",
            "Epoch 00007: val_accuracy did not improve from 0.86670\n",
            "60/60 [==============================] - 14s 230ms/step - loss: 0.3244 - accuracy: 0.8821 - val_loss: 0.3701 - val_accuracy: 0.8656\n",
            "Epoch 8/50\n",
            "60/60 [==============================] - ETA: 0s - loss: 0.3136 - accuracy: 0.8834\n",
            "Epoch 00008: val_accuracy improved from 0.86670 to 0.87830, saving model to best_improved2_dropout_FC.pt\n",
            "INFO:tensorflow:Assets written to: best_improved2_dropout_FC.pt/assets\n",
            "60/60 [==============================] - 16s 272ms/step - loss: 0.3136 - accuracy: 0.8834 - val_loss: 0.3382 - val_accuracy: 0.8783\n",
            "Epoch 9/50\n",
            "60/60 [==============================] - ETA: 0s - loss: 0.2978 - accuracy: 0.8901\n",
            "Epoch 00009: val_accuracy did not improve from 0.87830\n",
            "60/60 [==============================] - 14s 231ms/step - loss: 0.2978 - accuracy: 0.8901 - val_loss: 0.3499 - val_accuracy: 0.8753\n",
            "Epoch 10/50\n",
            "60/60 [==============================] - ETA: 0s - loss: 0.2885 - accuracy: 0.8924\n",
            "Epoch 00010: val_accuracy improved from 0.87830 to 0.88090, saving model to best_improved2_dropout_FC.pt\n",
            "INFO:tensorflow:Assets written to: best_improved2_dropout_FC.pt/assets\n",
            "60/60 [==============================] - 16s 275ms/step - loss: 0.2885 - accuracy: 0.8924 - val_loss: 0.3292 - val_accuracy: 0.8809\n",
            "Epoch 11/50\n",
            "60/60 [==============================] - ETA: 0s - loss: 0.2779 - accuracy: 0.8971\n",
            "Epoch 00011: val_accuracy improved from 0.88090 to 0.88240, saving model to best_improved2_dropout_FC.pt\n",
            "INFO:tensorflow:Assets written to: best_improved2_dropout_FC.pt/assets\n",
            "60/60 [==============================] - 17s 281ms/step - loss: 0.2779 - accuracy: 0.8971 - val_loss: 0.3287 - val_accuracy: 0.8824\n",
            "Epoch 12/50\n",
            "60/60 [==============================] - ETA: 0s - loss: 0.2673 - accuracy: 0.9008\n",
            "Epoch 00012: val_accuracy improved from 0.88240 to 0.88920, saving model to best_improved2_dropout_FC.pt\n",
            "INFO:tensorflow:Assets written to: best_improved2_dropout_FC.pt/assets\n",
            "60/60 [==============================] - 16s 272ms/step - loss: 0.2673 - accuracy: 0.9008 - val_loss: 0.3193 - val_accuracy: 0.8892\n",
            "Epoch 13/50\n",
            "60/60 [==============================] - ETA: 0s - loss: 0.2589 - accuracy: 0.9041\n",
            "Epoch 00013: val_accuracy improved from 0.88920 to 0.88930, saving model to best_improved2_dropout_FC.pt\n",
            "INFO:tensorflow:Assets written to: best_improved2_dropout_FC.pt/assets\n",
            "60/60 [==============================] - 16s 270ms/step - loss: 0.2589 - accuracy: 0.9041 - val_loss: 0.3112 - val_accuracy: 0.8893\n",
            "Epoch 14/50\n",
            "60/60 [==============================] - ETA: 0s - loss: 0.2534 - accuracy: 0.9071\n",
            "Epoch 00014: val_accuracy did not improve from 0.88930\n",
            "60/60 [==============================] - 14s 227ms/step - loss: 0.2534 - accuracy: 0.9071 - val_loss: 0.3262 - val_accuracy: 0.8857\n",
            "Epoch 15/50\n",
            "60/60 [==============================] - ETA: 0s - loss: 0.2440 - accuracy: 0.9093\n",
            "Epoch 00015: val_accuracy did not improve from 0.88930\n",
            "60/60 [==============================] - 14s 226ms/step - loss: 0.2440 - accuracy: 0.9093 - val_loss: 0.3433 - val_accuracy: 0.8851\n",
            "Epoch 16/50\n",
            "60/60 [==============================] - ETA: 0s - loss: 0.2385 - accuracy: 0.9114\n",
            "Epoch 00016: val_accuracy did not improve from 0.88930\n",
            "60/60 [==============================] - 14s 227ms/step - loss: 0.2385 - accuracy: 0.9114 - val_loss: 0.3432 - val_accuracy: 0.8862\n",
            "Epoch 17/50\n",
            "60/60 [==============================] - ETA: 0s - loss: 0.2300 - accuracy: 0.9142\n",
            "Epoch 00017: val_accuracy improved from 0.88930 to 0.89270, saving model to best_improved2_dropout_FC.pt\n",
            "INFO:tensorflow:Assets written to: best_improved2_dropout_FC.pt/assets\n",
            "60/60 [==============================] - 16s 268ms/step - loss: 0.2300 - accuracy: 0.9142 - val_loss: 0.3082 - val_accuracy: 0.8927\n",
            "Epoch 18/50\n",
            "60/60 [==============================] - ETA: 0s - loss: 0.2242 - accuracy: 0.9163\n",
            "Epoch 00018: val_accuracy improved from 0.89270 to 0.89620, saving model to best_improved2_dropout_FC.pt\n",
            "INFO:tensorflow:Assets written to: best_improved2_dropout_FC.pt/assets\n",
            "60/60 [==============================] - 17s 278ms/step - loss: 0.2242 - accuracy: 0.9163 - val_loss: 0.3067 - val_accuracy: 0.8962\n",
            "Epoch 19/50\n",
            "60/60 [==============================] - ETA: 0s - loss: 0.2176 - accuracy: 0.9193\n",
            "Epoch 00019: val_accuracy did not improve from 0.89620\n",
            "60/60 [==============================] - 14s 226ms/step - loss: 0.2176 - accuracy: 0.9193 - val_loss: 0.3191 - val_accuracy: 0.8933\n",
            "Epoch 20/50\n",
            "60/60 [==============================] - ETA: 0s - loss: 0.2128 - accuracy: 0.9215\n",
            "Epoch 00020: val_accuracy improved from 0.89620 to 0.89630, saving model to best_improved2_dropout_FC.pt\n",
            "INFO:tensorflow:Assets written to: best_improved2_dropout_FC.pt/assets\n",
            "60/60 [==============================] - 16s 268ms/step - loss: 0.2128 - accuracy: 0.9215 - val_loss: 0.3079 - val_accuracy: 0.8963\n",
            "Epoch 21/50\n",
            "60/60 [==============================] - ETA: 0s - loss: 0.2103 - accuracy: 0.9226\n",
            "Epoch 00021: val_accuracy improved from 0.89630 to 0.89780, saving model to best_improved2_dropout_FC.pt\n",
            "INFO:tensorflow:Assets written to: best_improved2_dropout_FC.pt/assets\n",
            "60/60 [==============================] - 16s 267ms/step - loss: 0.2103 - accuracy: 0.9226 - val_loss: 0.3118 - val_accuracy: 0.8978\n",
            "Epoch 22/50\n",
            "60/60 [==============================] - ETA: 0s - loss: 0.2027 - accuracy: 0.9244\n",
            "Epoch 00022: val_accuracy did not improve from 0.89780\n",
            "60/60 [==============================] - 14s 226ms/step - loss: 0.2027 - accuracy: 0.9244 - val_loss: 0.3251 - val_accuracy: 0.8943\n",
            "Epoch 23/50\n",
            "60/60 [==============================] - ETA: 0s - loss: 0.1984 - accuracy: 0.9265\n",
            "Epoch 00023: val_accuracy improved from 0.89780 to 0.89840, saving model to best_improved2_dropout_FC.pt\n",
            "INFO:tensorflow:Assets written to: best_improved2_dropout_FC.pt/assets\n",
            "60/60 [==============================] - 16s 265ms/step - loss: 0.1984 - accuracy: 0.9265 - val_loss: 0.3141 - val_accuracy: 0.8984\n",
            "Epoch 24/50\n",
            "60/60 [==============================] - ETA: 0s - loss: 0.1938 - accuracy: 0.9279\n",
            "Epoch 00024: val_accuracy did not improve from 0.89840\n",
            "60/60 [==============================] - 14s 226ms/step - loss: 0.1938 - accuracy: 0.9279 - val_loss: 0.3198 - val_accuracy: 0.8943\n",
            "Epoch 25/50\n",
            "60/60 [==============================] - ETA: 0s - loss: 0.1892 - accuracy: 0.9292\n",
            "Epoch 00025: val_accuracy did not improve from 0.89840\n",
            "60/60 [==============================] - 14s 229ms/step - loss: 0.1892 - accuracy: 0.9292 - val_loss: 0.3136 - val_accuracy: 0.8973\n",
            "Epoch 26/50\n",
            "60/60 [==============================] - ETA: 0s - loss: 0.1819 - accuracy: 0.9323\n",
            "Epoch 00026: val_accuracy improved from 0.89840 to 0.89980, saving model to best_improved2_dropout_FC.pt\n",
            "INFO:tensorflow:Assets written to: best_improved2_dropout_FC.pt/assets\n",
            "60/60 [==============================] - 17s 279ms/step - loss: 0.1819 - accuracy: 0.9323 - val_loss: 0.3151 - val_accuracy: 0.8998\n",
            "Epoch 27/50\n",
            "60/60 [==============================] - ETA: 0s - loss: 0.1810 - accuracy: 0.9333\n",
            "Epoch 00027: val_accuracy did not improve from 0.89980\n",
            "60/60 [==============================] - 14s 230ms/step - loss: 0.1810 - accuracy: 0.9333 - val_loss: 0.3164 - val_accuracy: 0.8965\n",
            "Epoch 28/50\n",
            "60/60 [==============================] - ETA: 0s - loss: 0.1762 - accuracy: 0.9334\n",
            "Epoch 00028: val_accuracy did not improve from 0.89980\n",
            "60/60 [==============================] - 14s 229ms/step - loss: 0.1762 - accuracy: 0.9334 - val_loss: 0.3132 - val_accuracy: 0.8994\n"
          ]
        }
      ]
    },
    {
      "cell_type": "code",
      "execution_count": null,
      "metadata": {
        "id": "wuuBlYweosrb"
      },
      "outputs": [],
      "source": [
        "#load  best_improved_dropout_FC.pt and use it on the test data\n",
        "m_improved2_dropout_FC_scaled = load_model('/content/best_improved2_dropout_FC.pt')\n",
        "pred_improved2_dropout_FC_scaled = m_improved2_dropout_FC_scaled.predict(X_test_scaled)\n",
        "pred_improved2_dropout_FC_scaled = np.argmax(pred_improved2_dropout_FC_scaled, axis=1)"
      ]
    },
    {
      "cell_type": "code",
      "source": [
        "print('=====Improved DNN-Drop-Batch Evaluation on scaled dataset=====')\n",
        "print_classification_report(y_test, pred_improved2_dropout_FC_scaled, label_names)"
      ],
      "metadata": {
        "colab": {
          "base_uri": "https://localhost:8080/"
        },
        "outputId": "0a7cfde3-ddaa-40b7-cf44-500310395a9f",
        "id": "Rlnnq3kMosrc"
      },
      "execution_count": null,
      "outputs": [
        {
          "output_type": "stream",
          "name": "stdout",
          "text": [
            "=====Improved DNN-Drop-Batch Evaluation on scaled dataset=====\n",
            "Confusion matrix\n",
            "[[837   2  13  21   2   1 120   0   4   0]\n",
            " [  1 981   1  12   2   0   2   0   1   0]\n",
            " [ 16   1 810  15  83   0  75   0   0   0]\n",
            " [ 15   4   6 918  30   0  23   0   4   0]\n",
            " [  1   0  70  29 824   0  75   0   1   0]\n",
            " [  0   0   0   1   0 958   0  30   1  10]\n",
            " [ 94   0  54  28  55   0 761   0   8   0]\n",
            " [  0   0   0   0   0   4   0 985   0  11]\n",
            " [  2   0   4   5   0   2   7   5 975   0]\n",
            " [  0   0   0   0   0   7   1  43   0 949]]\n",
            "\n",
            "              precision    recall  f1-score   support\n",
            "\n",
            " T-shirt/top       0.87      0.84      0.85      1000\n",
            "     Trouser       0.99      0.98      0.99      1000\n",
            "    Pullover       0.85      0.81      0.83      1000\n",
            "       Dress       0.89      0.92      0.90      1000\n",
            "        Coat       0.83      0.82      0.83      1000\n",
            "      Sandal       0.99      0.96      0.97      1000\n",
            "       Shirt       0.72      0.76      0.74      1000\n",
            "     Sneaker       0.93      0.98      0.95      1000\n",
            "         Bag       0.98      0.97      0.98      1000\n",
            "  Ankle boot       0.98      0.95      0.96      1000\n",
            "\n",
            "    accuracy                           0.90     10000\n",
            "   macro avg       0.90      0.90      0.90     10000\n",
            "weighted avg       0.90      0.90      0.90     10000\n",
            "\n"
          ]
        }
      ]
    },
    {
      "cell_type": "code",
      "source": [
        "# Accuracy vizualization\n",
        "plt.plot(train_history_improved2_dropout_FC.history['accuracy'],label = 'Scaled Train - Improved2 Dropout FC')\n",
        "plt.plot(train_history_improved2_dropout_FC.history['val_accuracy'],label = 'Scaled Validation - Improved2 Dropout FC')\n",
        "plt.legend()\n",
        "plt.grid()\n",
        "plt.ylabel('accuracy')\n",
        "plt.xlabel('epoch')\n",
        "plt.show()\n",
        "\n",
        "plt.plot(train_history_base_FC.history['val_accuracy'],label = 'Base FC - original validation dataset')\n",
        "plt.plot(train_history_base_FC_scaled.history['val_accuracy'],label = 'Base FC - scaled validation dataset')\n",
        "plt.plot(train_history_dropout_FC.history['val_accuracy'],label = 'Dropout FC - scaled validation dataset')\n",
        "plt.plot(train_history_improved2_dropout_FC.history['val_accuracy'],label = 'Improved2 Dropout FC - scaled validation dataset')\n",
        "plt.legend()\n",
        "plt.grid()\n",
        "plt.ylabel('accuracy')\n",
        "plt.xlabel('epoch')\n",
        "plt.show()\n"
      ],
      "metadata": {
        "colab": {
          "base_uri": "https://localhost:8080/",
          "height": 541
        },
        "outputId": "d2873f3e-ab18-4888-ab83-8aa3092ea6cb",
        "id": "GNl7oW1xosrc"
      },
      "execution_count": null,
      "outputs": [
        {
          "output_type": "display_data",
          "data": {
            "image/png": "[encoded data removed]",
            "text/plain": [
              "<Figure size 432x288 with 1 Axes>"
            ]
          },
          "metadata": {
            "needs_background": "light"
          }
        },
        {
          "output_type": "display_data",
          "data": {
            "image/png": "[encoded data removed]",
            "text/plain": [
              "<Figure size 432x288 with 1 Axes>"
            ]
          },
          "metadata": {
            "needs_background": "light"
          }
        }
      ]
    }
  ],
  "metadata": {
    "colab": {
      "collapsed_sections": [],
      "name": "Workshop_DNNs.ipynb",
      "provenance": []
    },
    "kernelspec": {
      "display_name": "Python 3 (ipykernel)",
      "language": "python",
      "name": "python3"
    },
    "language_info": {
      "codemirror_mode": {
        "name": "ipython",
        "version": 3
      },
      "file_extension": ".py",
      "mimetype": "text/x-python",
      "name": "python",
      "nbconvert_exporter": "python",
      "pygments_lexer": "ipython3",
      "version": "3.8.8"
    }
  },
  "nbformat": 4,
  "nbformat_minor": 0
}